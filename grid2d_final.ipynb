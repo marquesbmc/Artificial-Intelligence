{
  "nbformat": 4,
  "nbformat_minor": 0,
  "metadata": {
    "colab": {
      "provenance": [],
      "collapsed_sections": [
        "UUkDUcMoRMD9",
        "OMgIWrCPd0w9",
        "2rvCb-1hgupZ",
        "Ye6f3CiKQlwG"
      ],
      "authorship_tag": "ABX9TyO/NwS/k565WcxxRGBE2jRI",
      "include_colab_link": true
    },
    "kernelspec": {
      "name": "python3",
      "display_name": "Python 3"
    },
    "language_info": {
      "name": "python"
    }
  },
  "cells": [
    {
      "cell_type": "markdown",
      "metadata": {
        "id": "view-in-github",
        "colab_type": "text"
      },
      "source": [
        "<a href=\"https://colab.research.google.com/github/marquesbmc/Artificial-Intelligence/blob/main/grid2d_final.ipynb\" target=\"_parent\"><img src=\"https://colab.research.google.com/assets/colab-badge.svg\" alt=\"Open In Colab\"/></a>"
      ]
    },
    {
      "cell_type": "markdown",
      "source": [
        "# *Library and packages*"
      ],
      "metadata": {
        "id": "UUkDUcMoRMD9"
      }
    },
    {
      "cell_type": "code",
      "source": [
        "!pip install gym\n",
        "!pip install --upgrade ipython"
      ],
      "metadata": {
        "id": "HCN5yFUiDdXC",
        "colab": {
          "base_uri": "https://localhost:8080/",
          "height": 929
        },
        "outputId": "1bb76d7e-5d30-4474-95b5-a9643813826f"
      },
      "execution_count": 1,
      "outputs": [
        {
          "output_type": "stream",
          "name": "stdout",
          "text": [
            "Requirement already satisfied: gym in /usr/local/lib/python3.10/dist-packages (0.25.2)\n",
            "Requirement already satisfied: numpy>=1.18.0 in /usr/local/lib/python3.10/dist-packages (from gym) (1.23.5)\n",
            "Requirement already satisfied: cloudpickle>=1.2.0 in /usr/local/lib/python3.10/dist-packages (from gym) (2.2.1)\n",
            "Requirement already satisfied: gym-notices>=0.0.4 in /usr/local/lib/python3.10/dist-packages (from gym) (0.0.8)\n",
            "Requirement already satisfied: ipython in /usr/local/lib/python3.10/dist-packages (7.34.0)\n",
            "Collecting ipython\n",
            "  Downloading ipython-8.15.0-py3-none-any.whl (806 kB)\n",
            "\u001b[2K     \u001b[90m━━━━━━━━━━━━━━━━━━━━━━━━━━━━━━━━━━━━━━━\u001b[0m \u001b[32m806.6/806.6 kB\u001b[0m \u001b[31m4.8 MB/s\u001b[0m eta \u001b[36m0:00:00\u001b[0m\n",
            "\u001b[?25hRequirement already satisfied: backcall in /usr/local/lib/python3.10/dist-packages (from ipython) (0.2.0)\n",
            "Requirement already satisfied: decorator in /usr/local/lib/python3.10/dist-packages (from ipython) (4.4.2)\n",
            "Collecting jedi>=0.16 (from ipython)\n",
            "  Downloading jedi-0.19.0-py2.py3-none-any.whl (1.6 MB)\n",
            "\u001b[2K     \u001b[90m━━━━━━━━━━━━━━━━━━━━━━━━━━━━━━━━━━━━━━━━\u001b[0m \u001b[32m1.6/1.6 MB\u001b[0m \u001b[31m21.6 MB/s\u001b[0m eta \u001b[36m0:00:00\u001b[0m\n",
            "\u001b[?25hRequirement already satisfied: matplotlib-inline in /usr/local/lib/python3.10/dist-packages (from ipython) (0.1.6)\n",
            "Requirement already satisfied: pickleshare in /usr/local/lib/python3.10/dist-packages (from ipython) (0.7.5)\n",
            "Requirement already satisfied: prompt-toolkit!=3.0.37,<3.1.0,>=3.0.30 in /usr/local/lib/python3.10/dist-packages (from ipython) (3.0.39)\n",
            "Requirement already satisfied: pygments>=2.4.0 in /usr/local/lib/python3.10/dist-packages (from ipython) (2.16.1)\n",
            "Collecting stack-data (from ipython)\n",
            "  Downloading stack_data-0.6.2-py3-none-any.whl (24 kB)\n",
            "Requirement already satisfied: traitlets>=5 in /usr/local/lib/python3.10/dist-packages (from ipython) (5.7.1)\n",
            "Requirement already satisfied: exceptiongroup in /usr/local/lib/python3.10/dist-packages (from ipython) (1.1.3)\n",
            "Requirement already satisfied: pexpect>4.3 in /usr/local/lib/python3.10/dist-packages (from ipython) (4.8.0)\n",
            "Requirement already satisfied: parso<0.9.0,>=0.8.3 in /usr/local/lib/python3.10/dist-packages (from jedi>=0.16->ipython) (0.8.3)\n",
            "Requirement already satisfied: ptyprocess>=0.5 in /usr/local/lib/python3.10/dist-packages (from pexpect>4.3->ipython) (0.7.0)\n",
            "Requirement already satisfied: wcwidth in /usr/local/lib/python3.10/dist-packages (from prompt-toolkit!=3.0.37,<3.1.0,>=3.0.30->ipython) (0.2.6)\n",
            "Collecting executing>=1.2.0 (from stack-data->ipython)\n",
            "  Downloading executing-1.2.0-py2.py3-none-any.whl (24 kB)\n",
            "Collecting asttokens>=2.1.0 (from stack-data->ipython)\n",
            "  Downloading asttokens-2.4.0-py2.py3-none-any.whl (27 kB)\n",
            "Collecting pure-eval (from stack-data->ipython)\n",
            "  Downloading pure_eval-0.2.2-py3-none-any.whl (11 kB)\n",
            "Requirement already satisfied: six>=1.12.0 in /usr/local/lib/python3.10/dist-packages (from asttokens>=2.1.0->stack-data->ipython) (1.16.0)\n",
            "Installing collected packages: pure-eval, executing, jedi, asttokens, stack-data, ipython\n",
            "  Attempting uninstall: ipython\n",
            "    Found existing installation: ipython 7.34.0\n",
            "    Uninstalling ipython-7.34.0:\n",
            "      Successfully uninstalled ipython-7.34.0\n",
            "\u001b[31mERROR: pip's dependency resolver does not currently take into account all the packages that are installed. This behaviour is the source of the following dependency conflicts.\n",
            "google-colab 1.0.0 requires ipython==7.34.0, but you have ipython 8.15.0 which is incompatible.\u001b[0m\u001b[31m\n",
            "\u001b[0mSuccessfully installed asttokens-2.4.0 executing-1.2.0 ipython-8.15.0 jedi-0.19.0 pure-eval-0.2.2 stack-data-0.6.2\n"
          ]
        },
        {
          "output_type": "display_data",
          "data": {
            "application/vnd.colab-display-data+json": {
              "pip_warning": {
                "packages": [
                  "IPython"
                ]
              }
            }
          },
          "metadata": {}
        }
      ]
    },
    {
      "cell_type": "markdown",
      "source": [
        "# *Environment*"
      ],
      "metadata": {
        "id": "OMgIWrCPd0w9"
      }
    },
    {
      "cell_type": "code",
      "source": [
        "import numpy as np\n",
        "import itertools\n",
        "from skimage.transform import resize\n",
        "import matplotlib.pyplot as plt\n",
        "import gym\n",
        "from gym import spaces\n",
        "\n",
        "class Grid2DObject(object):\n",
        "    def __init__(self, coordinates, size, intensity, channel, reward, name):\n",
        "        self.x = coordinates[0]\n",
        "        self.y = coordinates[1]\n",
        "        self.size = size\n",
        "        self.intensity = intensity\n",
        "        self.channel = channel\n",
        "        self.reward = reward\n",
        "        self.name = name\n",
        "\n",
        "class Grid2DEnv(gym.Env):\n",
        "    def __init__(self, partial=True, sizeX=10, sizeY=10):\n",
        "        super(Grid2DEnv, self).__init__()\n",
        "\n",
        "        self.sizeX = sizeX\n",
        "        self.sizeY = sizeY\n",
        "        self.action_space = spaces.Discrete(4)\n",
        "        self.observation_space = spaces.Box(low=0, high=255, shape=(84, 84, 3), dtype=np.uint8)\n",
        "        self.channel = 3\n",
        "        self.partial = partial\n",
        "        self.radar = 7\n",
        "        self.objects = []\n",
        "        self.state_full = self.reset()\n",
        "\n",
        "    def _newPosition(self, occupied_positions):\n",
        "        iterables = [range(self.sizeX), range(self.sizeY)]\n",
        "        points = []\n",
        "        for t in itertools.product(*iterables):\n",
        "            points.append(t)\n",
        "        for pos in occupied_positions:\n",
        "            if pos in points:\n",
        "                points.remove(pos)\n",
        "        location = np.random.choice(range(len(points)), replace=False)\n",
        "        return points[location]\n",
        "\n",
        "    def reset(self):\n",
        "        self.objects = []\n",
        "        occupied_positions = []\n",
        "        state_full = None\n",
        "        rgb_channel = self.channel\n",
        "\n",
        "        matrix_G = np.zeros([self.sizeX, self.sizeY, rgb_channel])\n",
        "\n",
        "        agent_pos = self._newPosition(occupied_positions)\n",
        "        agent = Grid2DObject([2,2], 1, 1, 2, None, 'agent')\n",
        "        occupied_positions.append((2,2)) # Adicionando a posição do agent\n",
        "        self.objects.append(agent)\n",
        "\n",
        "        num_goals = 2\n",
        "        for _ in range(num_goals):\n",
        "            goal_pos = self._newPosition(occupied_positions)\n",
        "            goal_obj = Grid2DObject(goal_pos, 1, 1, 1, 1, 'goal')\n",
        "            self.objects.append(goal_obj)\n",
        "            occupied_positions.append(goal_pos)\n",
        "\n",
        "        for _ in range(3):\n",
        "            fire_pos = self._newPosition(occupied_positions)\n",
        "            fire_obj = Grid2DObject(fire_pos, 1, 1, 0, -1, 'fire')\n",
        "            self.objects.append(fire_obj)\n",
        "            occupied_positions.append(fire_pos)\n",
        "\n",
        "\n",
        "\n",
        "        for item in self.objects:\n",
        "            matrix_G[item.x, item.y, item.channel] = item.intensity * 255\n",
        "        self.state_full = matrix_G\n",
        "\n",
        "        return matrix_G\n",
        "\n",
        "    def step(self, agent, action):\n",
        "        penalty = self.moveChar(agent, action)\n",
        "        reward, done = self.checkGoal(agent)\n",
        "        state_full = self._render_full()\n",
        "        state = self.render(agent)\n",
        "        return state, (reward + penalty), done, {}\n",
        "\n",
        "    def render(self, agent):\n",
        "        if isinstance(agent, Grid2DObject):\n",
        "            state = self._get_cut_around(self.state_full, agent.x, agent.y, self.radar)\n",
        "        else:\n",
        "            state = None\n",
        "        return state\n",
        "\n",
        "    def _search_agent(self):\n",
        "        for o in env.objects:\n",
        "            if o.name == 'agent':\n",
        "                agent = o\n",
        "                return agent\n",
        "        return None\n",
        "\n",
        "    def close(self):\n",
        "        # Redefinir todos os atributos internos\n",
        "        self.sizeX = None\n",
        "        self.sizeY = None\n",
        "        self.action_space = None\n",
        "        self.observation_space = None\n",
        "        self.channel = None\n",
        "        self.partial = None\n",
        "        self.radar = None\n",
        "        self.objects = None\n",
        "        self.state_full = None\n",
        "\n",
        "    def moveChar(self, agent, direction):\n",
        "        agentX = agent.x\n",
        "        agentY = agent.y\n",
        "        penalize = 0.0\n",
        "        nextX, nextY = agent.x, agent.y\n",
        "        if direction == 0 and agent.y >= 1:\n",
        "            nextY -= 1\n",
        "        elif direction == 1 and agent.y <= self.sizeY - 2:\n",
        "            nextY += 1\n",
        "        elif direction == 2 and agent.x >= 1:\n",
        "            nextX -= 1\n",
        "        elif direction == 3 and agent.x <= self.sizeX - 2:\n",
        "            nextX += 1\n",
        "\n",
        "        if nextX < 0 or nextX >= self.sizeX or nextY < 0 or nextY >= self.sizeY:\n",
        "            penalize += -0.1\n",
        "            nextX, nextY = agent.x, agent.y\n",
        "\n",
        "        elif any(obj.name == 'goal' and obj.x == nextX and obj.y == nextY for obj in self.objects):\n",
        "            penalize += 0.1\n",
        "            nextX, nextY = agent.x, agent.y\n",
        "\n",
        "        elif any(obj.name == 'fire' and obj.x == nextX and obj.y == nextY for obj in self.objects):\n",
        "            penalize += -0.1\n",
        "            nextX, nextY = agent.x, agent.y\n",
        "\n",
        "        agent.x, agent.y = nextX, nextY\n",
        "\n",
        "        return penalize\n",
        "\n",
        "    def checkGoal(self, agent):\n",
        "        goals = [obj for obj in self.objects if obj.name == 'goal']\n",
        "        for goal in goals:\n",
        "            if abs(agent.x - goal.x) <= 1 and abs(agent.y - goal.y) <= 1:\n",
        "                return 1.0, True\n",
        "        fires = [obj for obj in self.objects if obj.name == 'fire']\n",
        "        for fire in fires:\n",
        "            if abs(agent.x - fire.x) <= 1 and abs(agent.y - fire.y) <= 1:\n",
        "                return -1.0, False\n",
        "        return 0.0, False\n",
        "\n",
        "    def _render_full(self):\n",
        "        matrix_G = np.zeros([self.sizeX, self.sizeY, self.channel])\n",
        "        for item in self.objects:\n",
        "            matrix_G[item.x, item.y, item.channel] = item.intensity * 255\n",
        "        self.state_full = matrix_G\n",
        "        return matrix_G\n",
        "\n",
        "    def _get_cut_around(self, matrix, lin, col, length):\n",
        "        n, m, channels = len(matrix), len(matrix[0]), len(matrix[0][0])\n",
        "        matrix_cut = [[[0 for k in range(channels)] for j in range(length)] for i in range(length)]\n",
        "        offset = length // 2\n",
        "        for i in range(-offset, offset + 1):\n",
        "            for j in range(-offset, offset + 1):\n",
        "                for k in range(channels):\n",
        "                    if 0 <= lin + i < n and 0 <= col + j < m:\n",
        "                        matrix_cut[i + offset][j + offset][k] = matrix[lin + i][col + j][k]\n",
        "                    else:\n",
        "                        matrix_cut[i + offset][j + offset][k] = 1 * 255\n",
        "        return matrix_cut"
      ],
      "metadata": {
        "id": "y1SIJfTzHbtY"
      },
      "execution_count": 33,
      "outputs": []
    },
    {
      "cell_type": "code",
      "source": [
        "import matplotlib.pyplot as plt\n",
        "\n",
        "def plot(state):\n",
        "    if isinstance(state, list):\n",
        "        state = np.array(state)\n",
        "\n",
        "    if len(state.shape) == 2:\n",
        "        cmap = 'gray'\n",
        "    else:\n",
        "        cmap = None\n",
        "\n",
        "    if state.dtype in [np.float32, np.float64]:\n",
        "        state = np.clip(state, 0, 1)\n",
        "    else:\n",
        "        state = np.clip(state, 0, 255).astype(np.uint8)\n",
        "\n",
        "\n",
        "    plt.imshow(state, cmap=cmap)\n",
        "    return plt.show()\n",
        "\n",
        "def plot_parallel(img1, img2, title1=\"Full View\", title2=\"Partial View\"):\n",
        "    \"\"\"Plota duas imagens lado a lado.\"\"\"\n",
        "    fig, (ax1, ax2) = plt.subplots(1, 2, figsize=(10, 5))\n",
        "\n",
        "    ax1.imshow(img1, cmap='gray')\n",
        "    ax1.set_title(title1)\n",
        "    ax1.axis('off')\n",
        "\n",
        "    ax2.imshow(img2, cmap='gray')\n",
        "    ax2.set_title(title2)\n",
        "    ax2.axis('off')\n",
        "\n",
        "    plt.tight_layout()\n",
        "    plt.show()"
      ],
      "metadata": {
        "id": "hH7O5h62SIE3"
      },
      "execution_count": 9,
      "outputs": []
    },
    {
      "cell_type": "markdown",
      "source": [
        "# *Image pre processing*"
      ],
      "metadata": {
        "id": "2rvCb-1hgupZ"
      }
    },
    {
      "cell_type": "code",
      "source": [
        "from skimage.transform import resize\n",
        "\n",
        "def preprocess_for_nn(image, target_size=(84, 84)):\n",
        "    \"\"\"Preprocesses the image for use in a neural network.\"\"\"\n",
        "\n",
        "    def ensure_numpy_array(input_data):\n",
        "        if isinstance(input_data, np.ndarray):\n",
        "            return input_data\n",
        "        else:\n",
        "            try:\n",
        "                return np.array(input_data)\n",
        "            except Exception as e:\n",
        "                raise ValueError(f\"Unable to convert input to a numpy array. Error: {e}\")\n",
        "\n",
        "    def preprocess_image(matrix, target_size=(84, 84)):\n",
        "        grid_nxn = ensure_numpy_array(matrix)\n",
        "        grid_nxn = resize(np.array(grid_nxn), target_size, order=0, anti_aliasing=True, mode='constant')\n",
        "        return grid_nxn\n",
        "\n",
        "    def rgb_to_gray(rgb_image):\n",
        "        if len(rgb_image.shape) != 3 or rgb_image.shape[2] != 3:\n",
        "            raise ValueError(\"The input must be an RGB image with dimensions (height, width, 3).\")\n",
        "        gray = 0.2989 * rgb_image[:, :, 0] + 0.5870 * rgb_image[:, :, 1] + 0.1140 * rgb_image[:, :, 2]\n",
        "        return gray.astype(np.uint8)\n",
        "\n",
        "    def normalize(image):\n",
        "        if 1 < image.max() <= 255:\n",
        "            return image / 255.0\n",
        "        return image\n",
        "\n",
        "    image = ensure_numpy_array(image)\n",
        "    image = preprocess_image(image, target_size=target_size)\n",
        "    image = rgb_to_gray(image)\n",
        "    image = normalize(image)\n",
        "\n",
        "    return image\n",
        "\n",
        "#processed_image = preprocess_for_nn(original_image, target_size=(84, 84))"
      ],
      "metadata": {
        "id": "7BbFePHSKb09"
      },
      "execution_count": 38,
      "outputs": []
    },
    {
      "cell_type": "markdown",
      "source": [
        "# *Deep Learning*"
      ],
      "metadata": {
        "id": "6jHpIp0eeCh3"
      }
    },
    {
      "cell_type": "code",
      "source": [
        "import numpy as np\n",
        "from keras.models import Model\n",
        "from keras.layers import Input, Dense, LSTM, GRU, Concatenate, Conv2D, Flatten, TimeDistributed, Lambda\n",
        "import keras.backend as K\n",
        "from keras.utils import to_categorical\n",
        "\n",
        "class Qnetwork():\n",
        "    def __init__(self, id_dim, timesteps, height, width, num_channels):\n",
        "\n",
        "        self.id_dim = id_dim\n",
        "        self.timesteps = timesteps\n",
        "        self.height = height\n",
        "        self.width = width\n",
        "        self.num_channels = num_channels\n",
        "        self.build_model()\n",
        "\n",
        "    def build_model(self):\n",
        "        # Definição das dimensões de entrada\n",
        "        input_shape = (self.timesteps, self.height, self.width, self.num_channels)\n",
        "\n",
        "        # Entradas\n",
        "        observation_input = Input(shape=input_shape, name=\"observation_input\")\n",
        "        agent_id_input = Input(shape=(self.id_dim,), name=\"agent_id_input\")\n",
        "\n",
        "        # Camada Linear para ID\n",
        "        id_embedding = Dense(128, activation=\"relu\")(agent_id_input)\n",
        "\n",
        "        # Camadas Convolucionais para a Observação\n",
        "        conv1 = TimeDistributed(Conv2D(32, (3, 3), activation=\"relu\"))(observation_input)\n",
        "        conv2 = TimeDistributed(Conv2D(64, (3, 3), activation=\"relu\"))(conv1)\n",
        "        flattened = TimeDistributed(Flatten())(conv2)\n",
        "\n",
        "        print(flattened.shape)\n",
        "\n",
        "        # Concatenação da Observação e ID\n",
        "        # Repetindo a ID incorporada para cada timestep\n",
        "        id_embedding_repeated = Lambda(lambda x: K.repeat(x, self.timesteps))(id_embedding)\n",
        "        concatenated = Concatenate(axis=-1)([flattened, id_embedding_repeated])\n",
        "\n",
        "        # LSTM\n",
        "        lstm_out = GRU(128)(concatenated)\n",
        "\n",
        "        # Camada de Saída (por simplicidade, vamos assumir 4 ações possíveis: cima, baixo, esquerda, direita)\n",
        "        output = Dense(4, activation=\"softmax\")(lstm_out)\n",
        "\n",
        "        # Modelo\n",
        "        self.model = Model(inputs=[observation_input, agent_id_input], outputs=output)\n",
        "        self.model.compile(optimizer=\"adam\", loss=\"categorical_crossentropy\")\n",
        "\n",
        "    def summary(self):\n",
        "        self.model.summary()\n",
        "\n"
      ],
      "metadata": {
        "id": "guYF3NKWHmrg"
      },
      "execution_count": 32,
      "outputs": []
    },
    {
      "cell_type": "markdown",
      "source": [
        "# *Buffer Experience*"
      ],
      "metadata": {
        "id": "Ye6f3CiKQlwG"
      }
    },
    {
      "cell_type": "code",
      "source": [
        "from collections import deque, namedtuple\n",
        "\n",
        "\n",
        "class ExperienceReplay:\n",
        "    def __init__(self, buffer_size=50000):\n",
        "        \"\"\"\n",
        "        Data structure used to hold game experiences.\n",
        "        buffer_size: int : max number of experiences to store in the buffer\n",
        "        \"\"\"\n",
        "        self.buffer = deque(maxlen=buffer_size)\n",
        "        self.Experience = namedtuple(\"Experience\", [\"state\", \"action\", \"reward\", \"next_state\", \"done\"])\n",
        "\n",
        "    def add(self, experience):\n",
        "        \"\"\"\n",
        "        Adds a single experience to the buffer.\n",
        "        experience: tuple : a single experience\n",
        "        \"\"\"\n",
        "        if len(experience) != 5:\n",
        "            raise ValueError(\"Experience must be of form (state, action, reward, next_state, done)\")\n",
        "\n",
        "        exp = self.Experience(*experience)\n",
        "        self.buffer.append(exp)\n",
        "\n",
        "    def sample(self, size):\n",
        "        if size > len(self.buffer):\n",
        "            raise ValueError(\"Sample size exceeds buffer size.\")\n",
        "        sampled_experiences = random.sample(self.buffer, size)\n",
        "        return sampled_experiences\n",
        "\n",
        "        \"\"\"\n",
        "        def sample(self, size):\n",
        "\n",
        "        Returns a sample of experiences from the buffer.\n",
        "        size: int : number of experiences to sample\n",
        "\n",
        "        if size > len(self.buffer):\n",
        "            raise ValueError(\"Sample size exceeds buffer size.\")\n",
        "\n",
        "        sampled_experiences = np.random.choice(self.buffer, size, replace=False)\n",
        "        return sampled_experiences\n",
        "        \"\"\""
      ],
      "metadata": {
        "id": "6hBjJiTwQmtu"
      },
      "execution_count": 7,
      "outputs": []
    },
    {
      "cell_type": "markdown",
      "source": [
        "# *Testes*"
      ],
      "metadata": {
        "id": "8XTJmeO0Rg1z"
      }
    },
    {
      "cell_type": "markdown",
      "source": [
        "## Dumb choices"
      ],
      "metadata": {
        "id": "tOqwRsfZedOZ"
      }
    },
    {
      "cell_type": "code",
      "source": [
        "# Seu código original modificado\n",
        "env = Grid2DEnv(sizeX=10, sizeY=10)\n",
        "state_full = env.reset()\n",
        "\n",
        "agent = env._search_agent()  # Pega a referência ao agente\n",
        "partial_view = preprocess_for_nn(env.render(agent))  # Pega a visão parcial ao redor do agente\n",
        "\n",
        "# Chama a função personalizada para plotar lado a lado\n",
        "plot_parallel(state_full, partial_view)\n"
      ],
      "metadata": {
        "colab": {
          "base_uri": "https://localhost:8080/",
          "height": 541
        },
        "id": "RYCswfV6ErvU",
        "outputId": "b69b145b-339e-45b6-cd3c-3cd16201f58f"
      },
      "execution_count": 39,
      "outputs": [
        {
          "output_type": "stream",
          "name": "stderr",
          "text": [
            "WARNING:matplotlib.image:Clipping input data to the valid range for imshow with RGB data ([0..1] for floats or [0..255] for integers).\n"
          ]
        },
        {
          "output_type": "display_data",
          "data": {
            "text/plain": [
              "<Figure size 1000x500 with 2 Axes>"
            ],
            "image/png": "[encoded data removed]"
          },
          "metadata": {}
        }
      ]
    },
    {
      "cell_type": "code",
      "source": [
        "import tensorflow as tf\n",
        "from skimage.transform import resize\n",
        "\n",
        "# Seu código original modificado\n",
        "env = Grid2DEnv(sizeX=10, sizeY=10)\n",
        "state_full = env.reset()\n",
        "\n",
        "agent = env._search_agent()  # Pega a referência ao agente\n",
        "partial_view = env.render(agent)  # Pega a visão parcial ao redor do agente\n",
        "\n",
        "# Chama a função personalizada para plotar lado a lado\n",
        "plot_parallel(state_full, partial_view)\n",
        "\n",
        "def teste():\n",
        "\n",
        "    # Número de episódios para testar\n",
        "    num_episodes = 1\n",
        "\n",
        "    for episode in range(num_episodes):\n",
        "        state_full = env.reset()\n",
        "        plot(state_full)\n",
        "        done = False\n",
        "        total_reward = 0\n",
        "\n",
        "        while not done:\n",
        "            # Procura agent\n",
        "            agent = env._search_agent()\n",
        "\n",
        "            # Informa status parcial do agent apartir de uma agente e um state full do env\n",
        "            state = env.render(agent)\n",
        "\n",
        "            plot(state)\n",
        "\n",
        "            # Escolha uma ação aleatória\n",
        "            action = env.action_space.sample()\n",
        "\n",
        "            # Execute a ação no ambiente\n",
        "            next_state, reward, done, _ = env.step(agent, action)\n",
        "\n",
        "            print(f\"Episode {episode + 1} finished with total reward: {total_reward}\")\n",
        "\n",
        "    plot(env.state_full)\n",
        "    env.close()\n",
        "\n",
        "teste()"
      ],
      "metadata": {
        "colab": {
          "base_uri": "https://localhost:8080/",
          "height": 1000
        },
        "id": "lBPYNtfuMUgU",
        "outputId": "50696249-c280-476e-cc27-5f3d9fe203a2"
      },
      "execution_count": 42,
      "outputs": [
        {
          "output_type": "stream",
          "name": "stderr",
          "text": [
            "WARNING:matplotlib.image:Clipping input data to the valid range for imshow with RGB data ([0..1] for floats or [0..255] for integers).\n",
            "WARNING:matplotlib.image:Clipping input data to the valid range for imshow with RGB data ([0..1] for floats or [0..255] for integers).\n"
          ]
        },
        {
          "output_type": "display_data",
          "data": {
            "text/plain": [
              "<Figure size 1000x500 with 2 Axes>"
            ],
            "image/png": "[encoded data removed]"
          },
          "metadata": {}
        },
        {
          "output_type": "display_data",
          "data": {
            "text/plain": [
              "<Figure size 640x480 with 1 Axes>"
            ],
            "image/png": "[encoded data removed]"
          },
          "metadata": {}
        },
        {
          "output_type": "display_data",
          "data": {
            "text/plain": [
              "<Figure size 640x480 with 1 Axes>"
            ],
            "image/png": "[encoded data removed]"
          },
          "metadata": {}
        },
        {
          "output_type": "stream",
          "name": "stdout",
          "text": [
            "Episode 1 finished with total reward: 0\n"
          ]
        },
        {
          "output_type": "display_data",
          "data": {
            "text/plain": [
              "<Figure size 640x480 with 1 Axes>"
            ],
            "image/png": "[encoded data removed]"
          },
          "metadata": {}
        },
        {
          "output_type": "stream",
          "name": "stdout",
          "text": [
            "Episode 1 finished with total reward: 0\n"
          ]
        },
        {
          "output_type": "display_data",
          "data": {
            "text/plain": [
              "<Figure size 640x480 with 1 Axes>"
            ],
            "image/png": "[encoded data removed]"
          },
          "metadata": {}
        },
        {
          "output_type": "stream",
          "name": "stdout",
          "text": [
            "Episode 1 finished with total reward: 0\n"
          ]
        },
        {
          "output_type": "display_data",
          "data": {
            "text/plain": [
              "<Figure size 640x480 with 1 Axes>"
            ],
            "image/png": "[encoded data removed]"
          },
          "metadata": {}
        },
        {
          "output_type": "stream",
          "name": "stdout",
          "text": [
            "Episode 1 finished with total reward: 0\n"
          ]
        },
        {
          "output_type": "display_data",
          "data": {
            "text/plain": [
              "<Figure size 640x480 with 1 Axes>"
            ],
            "image/png": "[encoded data removed]"
          },
          "metadata": {}
        },
        {
          "output_type": "stream",
          "name": "stdout",
          "text": [
            "Episode 1 finished with total reward: 0\n"
          ]
        },
        {
          "output_type": "display_data",
          "data": {
            "text/plain": [
              "<Figure size 640x480 with 1 Axes>"
            ],
            "image/png": "[encoded data removed]"
          },
          "metadata": {}
        },
        {
          "output_type": "stream",
          "name": "stdout",
          "text": [
            "Episode 1 finished with total reward: 0\n"
          ]
        },
        {
          "output_type": "display_data",
          "data": {
            "text/plain": [
              "<Figure size 640x480 with 1 Axes>"
            ],
            "image/png": "[encoded data removed]"
          },
          "metadata": {}
        },
        {
          "output_type": "stream",
          "name": "stdout",
          "text": [
            "Episode 1 finished with total reward: 0\n"
          ]
        },
        {
          "output_type": "display_data",
          "data": {
            "text/plain": [
              "<Figure size 640x480 with 1 Axes>"
            ],
            "image/png": "[encoded data removed]"
          },
          "metadata": {}
        },
        {
          "output_type": "stream",
          "name": "stdout",
          "text": [
            "Episode 1 finished with total reward: 0\n"
          ]
        },
        {
          "output_type": "display_data",
          "data": {
            "text/plain": [
              "<Figure size 640x480 with 1 Axes>"
            ],
            "image/png": "[encoded data removed]"
          },
          "metadata": {}
        },
        {
          "output_type": "stream",
          "name": "stdout",
          "text": [
            "Episode 1 finished with total reward: 0\n"
          ]
        },
        {
          "output_type": "display_data",
          "data": {
            "text/plain": [
              "<Figure size 640x480 with 1 Axes>"
            ],
            "image/png": "[encoded data removed]"
          },
          "metadata": {}
        },
        {
          "output_type": "stream",
          "name": "stdout",
          "text": [
            "Episode 1 finished with total reward: 0\n"
          ]
        },
        {
          "output_type": "display_data",
          "data": {
            "text/plain": [
              "<Figure size 640x480 with 1 Axes>"
            ],
            "image/png": "[encoded data removed]"
          },
          "metadata": {}
        },
        {
          "output_type": "stream",
          "name": "stdout",
          "text": [
            "Episode 1 finished with total reward: 0\n"
          ]
        },
        {
          "output_type": "display_data",
          "data": {
            "text/plain": [
              "<Figure size 640x480 with 1 Axes>"
            ],
            "image/png": "[encoded data removed]"
          },
          "metadata": {}
        },
        {
          "output_type": "stream",
          "name": "stdout",
          "text": [
            "Episode 1 finished with total reward: 0\n"
          ]
        },
        {
          "output_type": "display_data",
          "data": {
            "text/plain": [
              "<Figure size 640x480 with 1 Axes>"
            ],
            "image/png": "[encoded data removed]"
          },
          "metadata": {}
        },
        {
          "output_type": "stream",
          "name": "stdout",
          "text": [
            "Episode 1 finished with total reward: 0\n"
          ]
        },
        {
          "output_type": "display_data",
          "data": {
            "text/plain": [
              "<Figure size 640x480 with 1 Axes>"
            ],
            "image/png": "[encoded data removed]"
          },
          "metadata": {}
        },
        {
          "output_type": "stream",
          "name": "stdout",
          "text": [
            "Episode 1 finished with total reward: 0\n"
          ]
        },
        {
          "output_type": "display_data",
          "data": {
            "text/plain": [
              "<Figure size 640x480 with 1 Axes>"
            ],
            "image/png": "[encoded data removed]"
          },
          "metadata": {}
        },
        {
          "output_type": "stream",
          "name": "stdout",
          "text": [
            "Episode 1 finished with total reward: 0\n"
          ]
        },
        {
          "output_type": "display_data",
          "data": {
            "text/plain": [
              "<Figure size 640x480 with 1 Axes>"
            ],
            "image/png": "[encoded data removed]"
          },
          "metadata": {}
        },
        {
          "output_type": "stream",
          "name": "stdout",
          "text": [
            "Episode 1 finished with total reward: 0\n"
          ]
        },
        {
          "output_type": "display_data",
          "data": {
            "text/plain": [
              "<Figure size 640x480 with 1 Axes>"
            ],
            "image/png": "[encoded data removed]"
          },
          "metadata": {}
        },
        {
          "output_type": "stream",
          "name": "stdout",
          "text": [
            "Episode 1 finished with total reward: 0\n"
          ]
        },
        {
          "output_type": "display_data",
          "data": {
            "text/plain": [
              "<Figure size 640x480 with 1 Axes>"
            ],
            "image/png": "[encoded data removed]"
          },
          "metadata": {}
        },
        {
          "output_type": "stream",
          "name": "stdout",
          "text": [
            "Episode 1 finished with total reward: 0\n"
          ]
        },
        {
          "output_type": "display_data",
          "data": {
            "text/plain": [
              "<Figure size 640x480 with 1 Axes>"
            ],
            "image/png": "[encoded data removed]"
          },
          "metadata": {}
        },
        {
          "output_type": "stream",
          "name": "stdout",
          "text": [
            "Episode 1 finished with total reward: 0\n"
          ]
        },
        {
          "output_type": "display_data",
          "data": {
            "text/plain": [
              "<Figure size 640x480 with 1 Axes>"
            ],
            "image/png": "[encoded data removed]"
          },
          "metadata": {}
        },
        {
          "output_type": "stream",
          "name": "stdout",
          "text": [
            "Episode 1 finished with total reward: 0\n"
          ]
        },
        {
          "output_type": "display_data",
          "data": {
            "text/plain": [
              "<Figure size 640x480 with 1 Axes>"
            ],
            "image/png": "[encoded data removed]"
          },
          "metadata": {}
        },
        {
          "output_type": "stream",
          "name": "stdout",
          "text": [
            "Episode 1 finished with total reward: 0\n"
          ]
        },
        {
          "output_type": "display_data",
          "data": {
            "text/plain": [
              "<Figure size 640x480 with 1 Axes>"
            ],
            "image/png": "[encoded data removed]"
          },
          "metadata": {}
        },
        {
          "output_type": "stream",
          "name": "stdout",
          "text": [
            "Episode 1 finished with total reward: 0\n"
          ]
        },
        {
          "output_type": "display_data",
          "data": {
            "text/plain": [
              "<Figure size 640x480 with 1 Axes>"
            ],
            "image/png": "[encoded data removed]"
          },
          "metadata": {}
        },
        {
          "output_type": "stream",
          "name": "stdout",
          "text": [
            "Episode 1 finished with total reward: 0\n"
          ]
        },
        {
          "output_type": "display_data",
          "data": {
            "text/plain": [
              "<Figure size 640x480 with 1 Axes>"
            ],
            "image/png": "[encoded data removed]"
          },
          "metadata": {}
        },
        {
          "output_type": "stream",
          "name": "stdout",
          "text": [
            "Episode 1 finished with total reward: 0\n"
          ]
        },
        {
          "output_type": "display_data",
          "data": {
            "text/plain": [
              "<Figure size 640x480 with 1 Axes>"
            ],
            "image/png": "[encoded data removed]"
          },
          "metadata": {}
        }
      ]
    },
    {
      "cell_type": "markdown",
      "source": [
        "## Choices"
      ],
      "metadata": {
        "id": "csLsH8c6bVTU"
      }
    },
    {
      "cell_type": "code",
      "source": [
        "import tensorflow as tf\n",
        "from skimage.transform import resize\n",
        "\n",
        "# Seu código original modificado\n",
        "env = Grid2DEnv(sizeX=10, sizeY=10)\n",
        "state_full = env.reset()\n",
        "\n",
        "agent = env._search_agent()  # Pega a referência ao agente\n",
        "partial_view = env.render(agent)  # Pega a visão parcial ao redor do agente\n",
        "\n",
        "# Chama a função personalizada para plotar lado a lado\n",
        "plot_parallel(state_full, partial_view)\n",
        "\n",
        "def teste():\n",
        "\n",
        "    # Número de episódios para testar\n",
        "    num_episodes = 1\n",
        "\n",
        "    for episode in range(num_episodes):\n",
        "        state_full = env.reset()\n",
        "        plot(state_full)\n",
        "        done = False\n",
        "        total_reward = 0\n",
        "\n",
        "        while not done:\n",
        "            # Procura agent\n",
        "            agent = env._search_agent()\n",
        "\n",
        "            # Informa status parcial do agent apartir de uma agente e um state full do env\n",
        "            state = env.render(agent)\n",
        "\n",
        "            plot(state)\n",
        "\n",
        "            # Escolha uma ação aleatória\n",
        "            action = env.action_space.sample()\n",
        "\n",
        "            # Execute a ação no ambiente\n",
        "            next_state, reward, done, _ = env.step(agent, action)\n",
        "\n",
        "            print(f\"Episode {episode + 1} finished with total reward: {total_reward}\")\n",
        "\n",
        "    plot(env.state_full)\n",
        "    env.close()\n",
        "\n",
        "teste()"
      ],
      "metadata": {
        "id": "hUpcAOhqblA7"
      },
      "execution_count": null,
      "outputs": []
    },
    {
      "cell_type": "code",
      "source": [
        "import gym\n",
        "from keras.utils import to_categorical\n",
        "import numpy as np\n",
        "\n",
        "def test_environment_dummy(episodes=10, steps=100):\n",
        "    # Inicialize o ambiente e o buffer de repetição de experiência\n",
        "    env = Grid2DEnv(sizeX=10, sizeY=10)\n",
        "\n",
        "    #buffer = ExperienceReplay()\n",
        "\n",
        "    for episode in range(episodes):\n",
        "        state_full = env.reset()\n",
        "        plot(state_full)\n",
        "\n",
        "\n",
        "\n",
        "        for step in range(steps):\n",
        "            done = False\n",
        "            total_reward = 0\n",
        "\n",
        "            state_full = env.reset()\n",
        "            plot(state_full)\n",
        "\n",
        "            agent = env._search_agent()\n",
        "            state = env.render(agent)\n",
        "            #state = preprocess_for_nn(state)\n",
        "            plot(state)\n",
        "\n",
        "            # Assumindo que o id do agente é simplesmente um vetor one-hot (por simplicidade)\n",
        "            agent_id = to_categorical(0, num_classes=env.action_space.n)\n",
        "\n",
        "            # Obter ação da rede neural (usando um agente aleatório por enquanto)\n",
        "            action_probs = np.random.uniform(size=env.action_space.n)\n",
        "            action = np.argmax(action_probs)\n",
        "\n",
        "            # Realize a ação e obtenha o próximo estado, recompensa, etc.\n",
        "            next_state, reward, done, _ = env.step(agent, action)\n",
        "            next_state = preprocess_for_nn(next_state)\n",
        "\n",
        "            # Armazene a experiência no buffer\n",
        "            buffer.add((state, action, reward, next_state, done))\n",
        "\n",
        "            state = next_state\n",
        "            #plot(state)  # Se você quiser visualizar o estado, descomente esta linha\n",
        "            total_reward += reward\n",
        "\n",
        "\n",
        "            if done:\n",
        "                break\n",
        "\n",
        "            print(f\"Episode {episode + 1} finished with reward: {total_reward}\")\n",
        "\n",
        "        print(f\"Episode {episode + 1} finished with total reward: {total_reward}\")\n",
        "\n",
        "# Teste\n",
        "test_environment_dummy()\n"
      ],
      "metadata": {
        "colab": {
          "base_uri": "https://localhost:8080/",
          "height": 1000
        },
        "id": "k-HOgD43VuD8",
        "outputId": "0d258494-1ff7-49d6-8100-ebf46ce7a59a"
      },
      "execution_count": 43,
      "outputs": [
        {
          "output_type": "display_data",
          "data": {
            "text/plain": [
              "<Figure size 640x480 with 1 Axes>"
            ],
            "image/png": "[encoded data removed]"
          },
          "metadata": {}
        },
        {
          "output_type": "display_data",
          "data": {
            "text/plain": [
              "<Figure size 640x480 with 1 Axes>"
            ],
            "image/png": "[encoded data removed]"
          },
          "metadata": {}
        },
        {
          "output_type": "error",
          "ename": "TypeError",
          "evalue": "ignored",
          "traceback": [
            "\u001b[0;31m---------------------------------------------------------------------------\u001b[0m",
            "\u001b[0;31mTypeError\u001b[0m                                 Traceback (most recent call last)",
            "\u001b[0;32m<ipython-input-43-b3d2ec9ccfe8>\u001b[0m in \u001b[0;36m<cell line: 56>\u001b[0;34m()\u001b[0m\n\u001b[1;32m     54\u001b[0m \u001b[0;34m\u001b[0m\u001b[0m\n\u001b[1;32m     55\u001b[0m \u001b[0;31m# Teste\u001b[0m\u001b[0;34m\u001b[0m\u001b[0;34m\u001b[0m\u001b[0m\n\u001b[0;32m---> 56\u001b[0;31m \u001b[0mtest_environment_dummy\u001b[0m\u001b[0;34m(\u001b[0m\u001b[0;34m)\u001b[0m\u001b[0;34m\u001b[0m\u001b[0;34m\u001b[0m\u001b[0m\n\u001b[0m",
            "\u001b[0;32m<ipython-input-43-b3d2ec9ccfe8>\u001b[0m in \u001b[0;36mtest_environment_dummy\u001b[0;34m(episodes, steps)\u001b[0m\n\u001b[1;32m     22\u001b[0m             \u001b[0mplot\u001b[0m\u001b[0;34m(\u001b[0m\u001b[0mstate_full\u001b[0m\u001b[0;34m)\u001b[0m\u001b[0;34m\u001b[0m\u001b[0;34m\u001b[0m\u001b[0m\n\u001b[1;32m     23\u001b[0m \u001b[0;34m\u001b[0m\u001b[0m\n\u001b[0;32m---> 24\u001b[0;31m             \u001b[0magent\u001b[0m \u001b[0;34m=\u001b[0m \u001b[0menv\u001b[0m\u001b[0;34m.\u001b[0m\u001b[0m_search_agent\u001b[0m\u001b[0;34m(\u001b[0m\u001b[0;34m)\u001b[0m\u001b[0;34m\u001b[0m\u001b[0;34m\u001b[0m\u001b[0m\n\u001b[0m\u001b[1;32m     25\u001b[0m             \u001b[0mstate\u001b[0m \u001b[0;34m=\u001b[0m \u001b[0menv\u001b[0m\u001b[0;34m.\u001b[0m\u001b[0mrender\u001b[0m\u001b[0;34m(\u001b[0m\u001b[0magent\u001b[0m\u001b[0;34m)\u001b[0m\u001b[0;34m\u001b[0m\u001b[0;34m\u001b[0m\u001b[0m\n\u001b[1;32m     26\u001b[0m             \u001b[0;31m#state = preprocess_for_nn(state)\u001b[0m\u001b[0;34m\u001b[0m\u001b[0;34m\u001b[0m\u001b[0m\n",
            "\u001b[0;32m<ipython-input-33-cddcb45621fa>\u001b[0m in \u001b[0;36m_search_agent\u001b[0;34m(self)\u001b[0m\n\u001b[1;32m     90\u001b[0m \u001b[0;34m\u001b[0m\u001b[0m\n\u001b[1;32m     91\u001b[0m     \u001b[0;32mdef\u001b[0m \u001b[0m_search_agent\u001b[0m\u001b[0;34m(\u001b[0m\u001b[0mself\u001b[0m\u001b[0;34m)\u001b[0m\u001b[0;34m:\u001b[0m\u001b[0;34m\u001b[0m\u001b[0;34m\u001b[0m\u001b[0m\n\u001b[0;32m---> 92\u001b[0;31m         \u001b[0;32mfor\u001b[0m \u001b[0mo\u001b[0m \u001b[0;32min\u001b[0m \u001b[0menv\u001b[0m\u001b[0;34m.\u001b[0m\u001b[0mobjects\u001b[0m\u001b[0;34m:\u001b[0m\u001b[0;34m\u001b[0m\u001b[0;34m\u001b[0m\u001b[0m\n\u001b[0m\u001b[1;32m     93\u001b[0m             \u001b[0;32mif\u001b[0m \u001b[0mo\u001b[0m\u001b[0;34m.\u001b[0m\u001b[0mname\u001b[0m \u001b[0;34m==\u001b[0m \u001b[0;34m'agent'\u001b[0m\u001b[0;34m:\u001b[0m\u001b[0;34m\u001b[0m\u001b[0;34m\u001b[0m\u001b[0m\n\u001b[1;32m     94\u001b[0m                 \u001b[0magent\u001b[0m \u001b[0;34m=\u001b[0m \u001b[0mo\u001b[0m\u001b[0;34m\u001b[0m\u001b[0;34m\u001b[0m\u001b[0m\n",
            "\u001b[0;31mTypeError\u001b[0m: 'NoneType' object is not iterable"
          ]
        }
      ]
    },
    {
      "cell_type": "code",
      "source": [
        "import gym\n",
        "from keras.utils import to_categorical\n",
        "import numpy as np\n",
        "\n",
        "def test_environment_with_nn(episodes=10, steps=100, batch_size=32):\n",
        "    env = Grid2DEnv()\n",
        "    buffer = ExperienceReplay()\n",
        "\n",
        "    # Inicializar a rede neural\n",
        "    # Altere os parâmetros conforme necessário\n",
        "    nn_agent = Qnetwork(num_channels=1, timesteps=1, height=84, width=84, id_dim=env.action_space.n)\n",
        "\n",
        "    for episode in range(episodes):\n",
        "        state_full = env.reset()\n",
        "        done = False\n",
        "        total_reward = 0\n",
        "\n",
        "        agent = env._search_agent()\n",
        "        state = env.render(agent)\n",
        "        state = preprocess_for_nn(state)\n",
        "\n",
        "        for step in range(steps):\n",
        "            # Obter ação da rede neural\n",
        "            agent_id = to_categorical(0, num_classes=env.action_space.n)\n",
        "            action_probs = nn_agent.model.predict([np.expand_dims(state, 0), agent_id.reshape(1,-1)])\n",
        "            action = np.argmax(action_probs[0])\n",
        "\n",
        "            # Realize a ação e obtenha o próximo estado, recompensa, etc.\n",
        "            next_state, reward, done, _ = env.step(agent, action)\n",
        "            next_state = preprocess_for_nn(next_state)\n",
        "\n",
        "            # Armazene a experiência no buffer\n",
        "            buffer.add((state, action, reward, next_state, done))\n",
        "\n",
        "            # Treine a rede neural com um lote de experiências (isso é um exemplo básico, você pode precisar ajustar)\n",
        "            if len(buffer) > batch_size:\n",
        "                experiences = buffer.sample(batch_size)\n",
        "                states, actions, rewards, next_states, dones = zip(*experiences)\n",
        "\n",
        "                # Assuma que você tem uma função para gerar os targets Q apropriados\n",
        "                q_targets = compute_q_targets(nn_agent, rewards, next_states, dones)\n",
        "\n",
        "                agent_ids = to_categorical([0] * batch_size, num_classes=env.action_space.n)\n",
        "                nn_agent.model.train_on_batch([np.array(states), agent_ids], q_targets)\n",
        "\n",
        "            state = next_state\n",
        "            total_reward += reward\n",
        "\n",
        "            if done:\n",
        "                break\n",
        "\n",
        "        print(f\"Episode {episode + 1} finished with total reward: {total_reward}\")\n",
        "\n",
        "# Teste\n",
        "test_environment_with_nn()\n"
      ],
      "metadata": {
        "id": "vHDey91JWxsi"
      },
      "execution_count": null,
      "outputs": []
    },
    {
      "cell_type": "code",
      "source": [
        "import random\n",
        "import gym\n",
        "from gym import spaces\n",
        "from skimage.transform import resize\n",
        "import itertools\n",
        "\n",
        "env = Grid2DEnv(sizeX=10, sizeY=10)\n",
        "qnetwork = Qnetwork(id_dim=1, timesteps=5, height=84, width=84, num_channels=1)\n",
        "replay_buffer = ExperienceReplay()\n",
        "\n",
        "\n",
        "# Running through some steps to fill replay buffer\n",
        "for episode in range(10):\n",
        "\n",
        "    # 1. Initialize the environment\n",
        "    initial_state = env.reset()\n",
        "    done = False\n",
        "    total_reward = 0\n",
        "\n",
        "    # 2. Search the agent object\n",
        "    agent = env._search_agent()\n",
        "    state = env.render(agent)\n",
        "    state = preprocess_for_nn(state)\n",
        "\n",
        "    # 3. Implement simple action mechanism\n",
        "    num_episodes = 10\n",
        "    num_steps = 50\n",
        "    replay_buffer = ExperienceReplay()\n",
        "\n",
        "    # 4. Create a Q-network\n",
        "    qnetwork = Qnetwork(id_dim=1, timesteps=20, height=84, width=84, num_channels=3)\n",
        "    qnetwork.summary()\n",
        "\n",
        "    for episode in range(num_episodes):\n",
        "        initial_state = env.reset()\n",
        "        agent = env._search_agent()\n",
        "        state = env.render(agent)\n",
        "        state = preprocess_for_nn(state)\n",
        "        state = np.expand_dims(state, axis=0)\n",
        "\n",
        "        for step in range(num_steps):\n",
        "            # For simplicity, use a random action\n",
        "            action = random.choice([0, 1, 2, 3])\n",
        "\n",
        "            next_state, reward, done, _ = env.step(agent, action)\n",
        "            next_state = preprocess_for_nn(next_state)\n",
        "            next_state = np.expand_dims(next_state, axis=0)\n",
        "\n",
        "            replay_buffer.add((state, action, reward, next_state, done))\n",
        "\n",
        "            state = next_state\n",
        "\n",
        "            if done:\n",
        "                break\n",
        "\n",
        "    # 5. Sample from ExperienceReplay to see if it works\n",
        "    sampled_experiences = replay_buffer.sample(10)\n",
        "    for exp in sampled_experiences:\n",
        "        print(exp)\n"
      ],
      "metadata": {
        "id": "WFCyUZbkk5-v"
      },
      "execution_count": null,
      "outputs": []
    },
    {
      "cell_type": "code",
      "source": [
        "import gym\n",
        "from gym import spaces\n",
        "\n",
        "# Your classes (Grid2DObject, Grid2DEnv, etc.) here ...\n",
        "\n",
        "# Initializing environment and agent\n",
        "env = Grid2DEnv(sizeX=10, sizeY=10)\n",
        "agent = Qnetwork(id_dim=1, timesteps=5, height=84, width=84, num_channels=1)\n",
        "replay_buffer = ExperienceReplay()\n",
        "\n",
        "# Running through some steps to fill replay buffer\n",
        "for episode in range(10):\n",
        "    state_initial = env.reset()\n",
        "    agent = env._search_agent()\n",
        "    state = env.render(agent)\n",
        "    #state = preprocess_for_nn(state)\n",
        "    done = False\n",
        "\n",
        "    while not done:\n",
        "        # Sample an action\n",
        "        action = np.random.randint(0, 4)\n",
        "\n",
        "        # Execute action in environment\n",
        "        next_state, reward, done, _ = env.step(env._search_agent(), action)\n",
        "\n",
        "        # Preprocess states for neural network\n",
        "        processed_state = preprocess_for_nn(state)\n",
        "        processed_next_state = preprocess_for_nn(next_state)\n",
        "\n",
        "        # Save to replay buffer\n",
        "        experience = (processed_state, action, reward, processed_next_state, done)\n",
        "        replay_buffer.add(experience)\n",
        "\n",
        "        # Move to next state\n",
        "        state = next_state\n",
        "        if done:\n",
        "            break\n",
        "\n",
        "# Sample from ExperienceReplay to see if it works\n",
        "sampled_experiences = replay_buffer.sample(10)\n",
        "for exp in sampled_experiences:\n",
        "    print(exp)"
      ],
      "metadata": {
        "id": "ty_hZTX7nS8I"
      },
      "execution_count": null,
      "outputs": []
    },
    {
      "cell_type": "code",
      "source": [
        "import numpy as np\n",
        "import itertools\n",
        "from skimage.transform import resize\n",
        "import matplotlib.pyplot as plt\n",
        "import gym\n",
        "from gym import spaces\n",
        "\n",
        "# Defina a classe Qnetwork aqui\n",
        "\n",
        "# Defina a função para preprocessar observações\n",
        "def preprocess_observation(observation):\n",
        "    # Redimensione a observação para o tamanho esperado pela Qnetwork\n",
        "    # Certifique-se de que a forma seja compatível com a da Qnetwork\n",
        "    return resize(observation, (7, 7, 3), anti_aliasing=True).astype(np.uint8)\n",
        "\n",
        "# Crie uma instância do ambiente Grid2DEnv\n",
        "env = Grid2DEnv(sizeX=7, sizeY=7)\n",
        "\n",
        "# Inicialize a Qnetwork com os parâmetros adequados\n",
        "num_channels = 3  # O número de canais na observação do ambiente Grid2DEnv é 3\n",
        "timesteps = 1  # Não estamos tratando de uma sequência temporal aqui, então timesteps = 1\n",
        "height, width = 7, 7  # Redimensione a observação para 84x84\n",
        "id_dim = 1  # Não estamos usando uma ID do agente neste ambiente\n",
        "\n",
        "# Crie uma instância da Qnetwork\n",
        "q_network = Qnetwork(num_channels, timesteps, height, width, id_dim)\n",
        "\n",
        "# Defina alguns hiperparâmetros para treinamento\n",
        "batch_size = 32\n",
        "num_episodes = 1000\n",
        "epsilon = 0.1  # Taxa de exploração\n",
        "\n",
        "# Treine a Qnetwork\n",
        "for episode in range(num_episodes):\n",
        "    observation = env.reset()\n",
        "    print(observation)\n",
        "    done = False\n",
        "    total_reward = 0\n",
        "\n",
        "    while not done:\n",
        "        # Pré-processamento da observação\n",
        "        preprocessed_observation = preprocess_observation(observation)\n",
        "\n",
        "        # Escolha uma ação usando a política epsilon-greedy\n",
        "        if np.random.rand() < epsilon:\n",
        "            action = env.action_space.sample()  # Ação aleatória (exploração)\n",
        "        else:\n",
        "            # Exploitação: escolha a ação com o maior valor Q\n",
        "            q_values = q_network.model.predict([np.expand_dims(preprocessed_observation, axis=0)])\n",
        "            action = np.argmax(q_values)\n",
        "\n",
        "        # Execute a ação no ambiente\n",
        "        next_observation, reward, done, _ = env.step(action)\n",
        "\n",
        "        # Atualize a Qnetwork com a experiência\n",
        "        # (implementação do treinamento da Qnetwork aqui)\n",
        "\n",
        "        total_reward += reward\n",
        "        observation = next_observation\n",
        "\n",
        "    print(f\"Episódio {episode + 1}: recompensa total = {total_reward}\")\n",
        "\n",
        "# Salve o modelo após o treinamento\n",
        "q_network.model.save(\"modelo_treinado.h5\")\n"
      ],
      "metadata": {
        "id": "S-6U-e1EstrU"
      },
      "execution_count": null,
      "outputs": []
    }
  ]
}