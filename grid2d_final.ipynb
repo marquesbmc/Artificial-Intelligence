{
  "nbformat": 4,
  "nbformat_minor": 0,
  "metadata": {
    "colab": {
      "provenance": [],
      "collapsed_sections": [
        "OMgIWrCPd0w9"
      ],
      "authorship_tag": "ABX9TyN2tkNjK88VNA/gbuZKrVZM",
      "include_colab_link": true
    },
    "kernelspec": {
      "name": "python3",
      "display_name": "Python 3"
    },
    "language_info": {
      "name": "python"
    }
  },
  "cells": [
    {
      "cell_type": "markdown",
      "metadata": {
        "id": "view-in-github",
        "colab_type": "text"
      },
      "source": [
        "<a href=\"https://colab.research.google.com/github/marquesbmc/Artificial-Intelligence/blob/main/grid2d_final.ipynb\" target=\"_parent\"><img src=\"https://colab.research.google.com/assets/colab-badge.svg\" alt=\"Open In Colab\"/></a>"
      ]
    },
    {
      "cell_type": "code",
      "source": [
        "!pip install gym\n",
        "!pip install --upgrade ipython"
      ],
      "metadata": {
        "id": "HCN5yFUiDdXC",
        "colab": {
          "base_uri": "https://localhost:8080/"
        },
        "outputId": "29df44a6-1816-4d16-85c5-d1d53dfa7b68"
      },
      "execution_count": 1,
      "outputs": [
        {
          "output_type": "stream",
          "name": "stdout",
          "text": [
            "Requirement already satisfied: gym in /usr/local/lib/python3.10/dist-packages (0.25.2)\n",
            "Requirement already satisfied: numpy>=1.18.0 in /usr/local/lib/python3.10/dist-packages (from gym) (1.23.5)\n",
            "Requirement already satisfied: cloudpickle>=1.2.0 in /usr/local/lib/python3.10/dist-packages (from gym) (2.2.1)\n",
            "Requirement already satisfied: gym-notices>=0.0.4 in /usr/local/lib/python3.10/dist-packages (from gym) (0.0.8)\n",
            "Requirement already satisfied: ipython in /usr/local/lib/python3.10/dist-packages (8.15.0)\n",
            "Requirement already satisfied: backcall in /usr/local/lib/python3.10/dist-packages (from ipython) (0.2.0)\n",
            "Requirement already satisfied: decorator in /usr/local/lib/python3.10/dist-packages (from ipython) (4.4.2)\n",
            "Requirement already satisfied: jedi>=0.16 in /usr/local/lib/python3.10/dist-packages (from ipython) (0.19.0)\n",
            "Requirement already satisfied: matplotlib-inline in /usr/local/lib/python3.10/dist-packages (from ipython) (0.1.6)\n",
            "Requirement already satisfied: pickleshare in /usr/local/lib/python3.10/dist-packages (from ipython) (0.7.5)\n",
            "Requirement already satisfied: prompt-toolkit!=3.0.37,<3.1.0,>=3.0.30 in /usr/local/lib/python3.10/dist-packages (from ipython) (3.0.39)\n",
            "Requirement already satisfied: pygments>=2.4.0 in /usr/local/lib/python3.10/dist-packages (from ipython) (2.16.1)\n",
            "Requirement already satisfied: stack-data in /usr/local/lib/python3.10/dist-packages (from ipython) (0.6.2)\n",
            "Requirement already satisfied: traitlets>=5 in /usr/local/lib/python3.10/dist-packages (from ipython) (5.7.1)\n",
            "Requirement already satisfied: exceptiongroup in /usr/local/lib/python3.10/dist-packages (from ipython) (1.1.3)\n",
            "Requirement already satisfied: pexpect>4.3 in /usr/local/lib/python3.10/dist-packages (from ipython) (4.8.0)\n",
            "Requirement already satisfied: parso<0.9.0,>=0.8.3 in /usr/local/lib/python3.10/dist-packages (from jedi>=0.16->ipython) (0.8.3)\n",
            "Requirement already satisfied: ptyprocess>=0.5 in /usr/local/lib/python3.10/dist-packages (from pexpect>4.3->ipython) (0.7.0)\n",
            "Requirement already satisfied: wcwidth in /usr/local/lib/python3.10/dist-packages (from prompt-toolkit!=3.0.37,<3.1.0,>=3.0.30->ipython) (0.2.6)\n",
            "Requirement already satisfied: executing>=1.2.0 in /usr/local/lib/python3.10/dist-packages (from stack-data->ipython) (1.2.0)\n",
            "Requirement already satisfied: asttokens>=2.1.0 in /usr/local/lib/python3.10/dist-packages (from stack-data->ipython) (2.4.0)\n",
            "Requirement already satisfied: pure-eval in /usr/local/lib/python3.10/dist-packages (from stack-data->ipython) (0.2.2)\n",
            "Requirement already satisfied: six>=1.12.0 in /usr/local/lib/python3.10/dist-packages (from asttokens>=2.1.0->stack-data->ipython) (1.16.0)\n"
          ]
        }
      ]
    },
    {
      "cell_type": "markdown",
      "source": [
        "# *Environment*"
      ],
      "metadata": {
        "id": "OMgIWrCPd0w9"
      }
    },
    {
      "cell_type": "code",
      "source": [
        "import numpy as np\n",
        "import itertools\n",
        "from skimage.transform import resize\n",
        "import matplotlib.pyplot as plt\n",
        "import gym\n",
        "from gym import spaces\n",
        "\n",
        "class Grid2DObject(object):\n",
        "    def __init__(self, coordinates, size, intensity, channel, reward, name):\n",
        "        self.x = coordinates[0]\n",
        "        self.y = coordinates[1]\n",
        "        self.size = size\n",
        "        self.intensity = intensity\n",
        "        self.channel = channel\n",
        "        self.reward = reward\n",
        "        self.name = name\n",
        "\n",
        "class Grid2DEnv(gym.Env):\n",
        "    def __init__(self, partial=True, sizeX=10, sizeY=10):\n",
        "        super(Grid2DEnv, self).__init__()\n",
        "\n",
        "        self.sizeX = sizeX\n",
        "        self.sizeY = sizeY\n",
        "        self.action_space = spaces.Discrete(4)\n",
        "        self.observation_space = spaces.Box(low=0, high=255, shape=(84, 84, 3), dtype=np.uint8)\n",
        "        self.channel = 3\n",
        "        self.partial = partial\n",
        "        self.radar = 7\n",
        "        self.objects = []\n",
        "        self.state_full = self.reset()\n",
        "\n",
        "    def _newPosition(self, occupied_positions):\n",
        "        iterables = [range(self.sizeX), range(self.sizeY)]\n",
        "        points = []\n",
        "        for t in itertools.product(*iterables):\n",
        "            points.append(t)\n",
        "        for pos in occupied_positions:\n",
        "            if pos in points:\n",
        "                points.remove(pos)\n",
        "        location = np.random.choice(range(len(points)), replace=False)\n",
        "        return points[location]\n",
        "\n",
        "    def reset(self):\n",
        "        self.objects = []\n",
        "        occupied_positions = []\n",
        "        state_full = None\n",
        "        rgb_channel = 3\n",
        "        matrix_G = np.zeros([self.sizeX, self.sizeY, rgb_channel])\n",
        "        num_goals = 2\n",
        "        for _ in range(num_goals):\n",
        "            goal_pos = self._newPosition(occupied_positions)\n",
        "            goal_obj = Grid2DObject(goal_pos, 1, 1, 1, 1, 'goal')\n",
        "            self.objects.append(goal_obj)\n",
        "            occupied_positions.append(goal_pos)\n",
        "        for _ in range(3):\n",
        "            fire_pos = self._newPosition(occupied_positions)\n",
        "            fire_obj = Grid2DObject(fire_pos, 1, 1, 0, -1, 'fire')\n",
        "            self.objects.append(fire_obj)\n",
        "            occupied_positions.append(fire_pos)\n",
        "        agent_pos = self._newPosition(occupied_positions)\n",
        "        agent = Grid2DObject(agent_pos, 1, 1, 2, None, 'agent')\n",
        "        self.objects.append(agent)\n",
        "        for item in self.objects:\n",
        "            matrix_G[item.x, item.y, item.channel] = item.intensity * 255\n",
        "        self.state_full = matrix_G\n",
        "        return matrix_G\n",
        "\n",
        "    def step(self, agent, action):\n",
        "        penalty = self.moveChar(agent, action)\n",
        "        reward, done = self.checkGoal(agent)\n",
        "        state_full = self._render_full()\n",
        "        state = self.render(agent)\n",
        "        return state, (reward + penalty), done, {}\n",
        "\n",
        "    def render(self, agent):\n",
        "        if isinstance(agent, Grid2DObject):\n",
        "            state = self._get_cut_around(self.state_full, agent.x, agent.y, self.radar)\n",
        "        else:\n",
        "            state = None\n",
        "        return state\n",
        "\n",
        "    def _search_agent(self):\n",
        "        for o in env.objects:\n",
        "            if o.name == 'agent':\n",
        "                agent = o\n",
        "                return agent\n",
        "        return None\n",
        "\n",
        "    def close(self):\n",
        "        pass\n",
        "\n",
        "    def moveChar(self, agent, direction):\n",
        "        agentX = agent.x\n",
        "        agentY = agent.y\n",
        "        penalize = 0.0\n",
        "        nextX, nextY = agent.x, agent.y\n",
        "        if direction == 0 and agent.y >= 1:\n",
        "            nextY -= 1\n",
        "        elif direction == 1 and agent.y <= self.sizeY - 2:\n",
        "            nextY += 1\n",
        "        elif direction == 2 and agent.x >= 1:\n",
        "            nextX -= 1\n",
        "        elif direction == 3 and agent.x <= self.sizeX - 2:\n",
        "            nextX += 1\n",
        "        if nextX < 0 or nextX >= self.sizeX or nextY < 0 or nextY >= self.sizeY:\n",
        "            penalize += -0.1\n",
        "            nextX, nextY = agent.x, agent.y\n",
        "        elif any(obj.name == 'goal' and obj.x == nextX and obj.y == nextY for obj in self.objects):\n",
        "            penalize += -0.1\n",
        "            nextX, nextY = agent.x, agent.y\n",
        "        elif any(obj.name == 'fire' and obj.x == nextX and obj.y == nextY for obj in self.objects):\n",
        "            penalize += -0.1\n",
        "            nextX, nextY = agent.x, agent.y\n",
        "        agent.x, agent.y = nextX, nextY\n",
        "        return penalize\n",
        "\n",
        "    def checkGoal(self, agent):\n",
        "        goals = [obj for obj in self.objects if obj.name == 'goal']\n",
        "        for goal in goals:\n",
        "            if abs(agent.x - goal.x) <= 1 and abs(agent.y - goal.y) <= 1:\n",
        "                return 1.0, True\n",
        "        fires = [obj for obj in self.objects if obj.name == 'fire']\n",
        "        for fire in fires:\n",
        "            if abs(agent.x - fire.x) <= 1 and abs(agent.y - fire.y) <= 1:\n",
        "                return -1.0, False\n",
        "        return 0.0, False\n",
        "\n",
        "    def _render_full(self):\n",
        "        matrix_G = np.zeros([self.sizeX, self.sizeY, self.channel])\n",
        "        for item in self.objects:\n",
        "            matrix_G[item.x, item.y, item.channel] = item.intensity * 255\n",
        "        self.state_full = matrix_G\n",
        "        return matrix_G\n",
        "\n",
        "    def _get_cut_around(self, matrix, lin, col, length):\n",
        "        n, m, channels = len(matrix), len(matrix[0]), len(matrix[0][0])\n",
        "        matrix_cut = [[[0 for k in range(channels)] for j in range(length)] for i in range(length)]\n",
        "        offset = length // 2\n",
        "        for i in range(-offset, offset + 1):\n",
        "            for j in range(-offset, offset + 1):\n",
        "                for k in range(channels):\n",
        "                    if 0 <= lin + i < n and 0 <= col + j < m:\n",
        "                        matrix_cut[i + offset][j + offset][k] = matrix[lin + i][col + j][k]\n",
        "                    else:\n",
        "                        matrix_cut[i + offset][j + offset][k] = 1 * 255\n",
        "        return matrix_cut\n",
        "\n",
        "env = Grid2DEnv(partial = True, sizeX=10, sizeY=10)\n",
        "state_full = env.reset()\n",
        "\n",
        "def plot(state):\n",
        "    if isinstance(state, list):\n",
        "        state = np.array(state)\n",
        "    if state.dtype == np.float32:\n",
        "        state = np.clip(state, 0, 1)\n",
        "    else:\n",
        "        state = np.clip(state, 0, 255).astype(np.uint8)\n",
        "    plt.imshow(state)\n",
        "    return plt.show()\n",
        "\n",
        "plot(state_full)"
      ],
      "metadata": {
        "id": "y1SIJfTzHbtY",
        "colab": {
          "base_uri": "https://localhost:8080/",
          "height": 430
        },
        "outputId": "82345c1f-86cb-4f1f-aea1-08affacabdac"
      },
      "execution_count": 20,
      "outputs": [
        {
          "output_type": "display_data",
          "data": {
            "text/plain": [
              "<Figure size 640x480 with 1 Axes>"
            ],
            "image/png": "[encoded data removed]"
          },
          "metadata": {}
        }
      ]
    },
    {
      "cell_type": "code",
      "source": [
        "if __name__ == \"__main__\":\n",
        "    # Crie uma instância do ambiente\n",
        "    env = Grid2DEnv(sizeX=10, sizeY=10)  # Defina partial=True para visão parcial\n",
        "    env = Grid2DEnv(partial = True, sizeX=10, sizeY=10)\n",
        "    state_clipped = np.clip(env.reset(), 0, 255)\n",
        "    plt.imshow(state_clipped, interpolation=\"nearest\")\n",
        "\n",
        "    # Número de episódios para testar\n",
        "    num_episodes = 1\n",
        "\n",
        "    for episode in range(num_episodes):\n",
        "        state_full = env.reset()\n",
        "        plot(state_full)\n",
        "        done = False\n",
        "        total_reward = 0\n",
        "\n",
        "        while not done:\n",
        "            # Procura agent\n",
        "            agent = env._search_agent()\n",
        "\n",
        "            # Informa status parcial do agent apartir de uma agente e um state full do env\n",
        "            state = env.render(agent)\n",
        "            plot(state)\n",
        "\n",
        "            # Escolha uma ação aleatória\n",
        "            action = env.action_space.sample()\n",
        "\n",
        "\n",
        "            # Execute a ação no ambiente\n",
        "            next_state, reward, done, _ = env.step(agent, action)\n",
        "            print(reward)\n",
        "            total_reward += reward\n",
        "\n",
        "\n",
        "        print(f\"Episode {episode + 1} finished with total reward: {total_reward}\")\n",
        "\n",
        "    plot(env.state_full)\n",
        "    env.close()\n"
      ],
      "metadata": {
        "colab": {
          "base_uri": "https://localhost:8080/",
          "height": 1000
        },
        "id": "jFXIaLsWdfec",
        "outputId": "6b4f9dca-20a0-41a3-ecd4-11acd6890086"
      },
      "execution_count": 21,
      "outputs": [
        {
          "output_type": "stream",
          "name": "stderr",
          "text": [
            "WARNING:matplotlib.image:Clipping input data to the valid range for imshow with RGB data ([0..1] for floats or [0..255] for integers).\n"
          ]
        },
        {
          "output_type": "display_data",
          "data": {
            "text/plain": [
              "<Figure size 640x480 with 1 Axes>"
            ],
            "image/png": "[encoded data removed]"
          },
          "metadata": {}
        },
        {
          "output_type": "display_data",
          "data": {
            "text/plain": [
              "<Figure size 640x480 with 1 Axes>"
            ],
            "image/png": "[encoded data removed]"
          },
          "metadata": {}
        },
        {
          "output_type": "stream",
          "name": "stdout",
          "text": [
            "0.0\n"
          ]
        },
        {
          "output_type": "display_data",
          "data": {
            "text/plain": [
              "<Figure size 640x480 with 1 Axes>"
            ],
            "image/png": "[encoded data removed]"
          },
          "metadata": {}
        },
        {
          "output_type": "stream",
          "name": "stdout",
          "text": [
            "0.0\n"
          ]
        },
        {
          "output_type": "display_data",
          "data": {
            "text/plain": [
              "<Figure size 640x480 with 1 Axes>"
            ],
            "image/png": "[encoded data removed]"
          },
          "metadata": {}
        },
        {
          "output_type": "stream",
          "name": "stdout",
          "text": [
            "0.0\n"
          ]
        },
        {
          "output_type": "display_data",
          "data": {
            "text/plain": [
              "<Figure size 640x480 with 1 Axes>"
            ],
            "image/png": "[encoded data removed]"
          },
          "metadata": {}
        },
        {
          "output_type": "stream",
          "name": "stdout",
          "text": [
            "0.0\n"
          ]
        },
        {
          "output_type": "display_data",
          "data": {
            "text/plain": [
              "<Figure size 640x480 with 1 Axes>"
            ],
            "image/png": "[encoded data removed]"
          },
          "metadata": {}
        },
        {
          "output_type": "stream",
          "name": "stdout",
          "text": [
            "-1.0\n"
          ]
        },
        {
          "output_type": "display_data",
          "data": {
            "text/plain": [
              "<Figure size 640x480 with 1 Axes>"
            ],
            "image/png": "[encoded data removed]"
          },
          "metadata": {}
        },
        {
          "output_type": "stream",
          "name": "stdout",
          "text": [
            "-1.1\n"
          ]
        },
        {
          "output_type": "display_data",
          "data": {
            "text/plain": [
              "<Figure size 640x480 with 1 Axes>"
            ],
            "image/png": "[encoded data removed]"
          },
          "metadata": {}
        },
        {
          "output_type": "stream",
          "name": "stdout",
          "text": [
            "-1.1\n"
          ]
        },
        {
          "output_type": "display_data",
          "data": {
            "text/plain": [
              "<Figure size 640x480 with 1 Axes>"
            ],
            "image/png": "[encoded data removed]"
          },
          "metadata": {}
        },
        {
          "output_type": "stream",
          "name": "stdout",
          "text": [
            "-1.1\n"
          ]
        },
        {
          "output_type": "display_data",
          "data": {
            "text/plain": [
              "<Figure size 640x480 with 1 Axes>"
            ],
            "image/png": "[encoded data removed]"
          },
          "metadata": {}
        },
        {
          "output_type": "stream",
          "name": "stdout",
          "text": [
            "0.0\n"
          ]
        },
        {
          "output_type": "display_data",
          "data": {
            "text/plain": [
              "<Figure size 640x480 with 1 Axes>"
            ],
            "image/png": "[encoded data removed]"
          },
          "metadata": {}
        },
        {
          "output_type": "stream",
          "name": "stdout",
          "text": [
            "0.0\n"
          ]
        },
        {
          "output_type": "display_data",
          "data": {
            "text/plain": [
              "<Figure size 640x480 with 1 Axes>"
            ],
            "image/png": "[encoded data removed]"
          },
          "metadata": {}
        },
        {
          "output_type": "stream",
          "name": "stdout",
          "text": [
            "0.0\n"
          ]
        },
        {
          "output_type": "display_data",
          "data": {
            "text/plain": [
              "<Figure size 640x480 with 1 Axes>"
            ],
            "image/png": "[encoded data removed]"
          },
          "metadata": {}
        },
        {
          "output_type": "stream",
          "name": "stdout",
          "text": [
            "0.0\n"
          ]
        },
        {
          "output_type": "display_data",
          "data": {
            "text/plain": [
              "<Figure size 640x480 with 1 Axes>"
            ],
            "image/png": "[encoded data removed]"
          },
          "metadata": {}
        },
        {
          "output_type": "stream",
          "name": "stdout",
          "text": [
            "1.0\n",
            "Episode 1 finished with total reward: -3.3000000000000007\n"
          ]
        },
        {
          "output_type": "display_data",
          "data": {
            "text/plain": [
              "<Figure size 640x480 with 1 Axes>"
            ],
            "image/png": "[encoded data removed]"
          },
          "metadata": {}
        }
      ]
    },
    {
      "cell_type": "markdown",
      "source": [
        "# *Deep Learning*"
      ],
      "metadata": {
        "id": "6jHpIp0eeCh3"
      }
    },
    {
      "cell_type": "code",
      "source": [
        "import numpy as np\n",
        "from keras.models import Model\n",
        "from keras.layers import Input, Dense, LSTM, GRU, Concatenate, Conv2D, Flatten, TimeDistributed, Lambda\n",
        "import keras.backend as K\n",
        "from keras.utils import to_categorical\n",
        "\n",
        "class Qnetwork():\n",
        "    def __init__(self, num_channels, timesteps, height, width, id_dim):\n",
        "        self.num_channels = num_channels\n",
        "        self.timesteps = timesteps\n",
        "        self.height = height\n",
        "        self.width = width\n",
        "        self.id_dim = id_dim\n",
        "        self.build_model()\n",
        "\n",
        "    def build_model(self):\n",
        "        # Definição das dimensões de entrada\n",
        "        input_shape = (self.timesteps, self.height, self.width, self.num_channels)\n",
        "\n",
        "        # Entradas\n",
        "        observation_input = Input(shape=input_shape, name=\"observation_input\")\n",
        "        agent_id_input = Input(shape=(self.id_dim,), name=\"agent_id_input\")\n",
        "\n",
        "        # Camada Linear para ID\n",
        "        id_embedding = Dense(128, activation=\"relu\")(agent_id_input)\n",
        "\n",
        "        # Camadas Convolucionais para a Observação\n",
        "        conv1 = TimeDistributed(Conv2D(32, (3, 3), activation=\"relu\"))(observation_input)\n",
        "        conv2 = TimeDistributed(Conv2D(64, (3, 3), activation=\"relu\"))(conv1)\n",
        "        flattened = TimeDistributed(Flatten())(conv2)\n",
        "\n",
        "        # Concatenação da Observação e ID\n",
        "        # Repetindo a ID incorporada para cada timestep\n",
        "        id_embedding_repeated = Lambda(lambda x: K.repeat(x, self.timesteps))(id_embedding)\n",
        "        concatenated = Concatenate(axis=-1)([flattened, id_embedding_repeated])\n",
        "\n",
        "        # LSTM\n",
        "        lstm_out = GRU(128)(concatenated)\n",
        "\n",
        "        # Camada de Saída (por simplicidade, vamos assumir 4 ações possíveis: cima, baixo, esquerda, direita)\n",
        "        output = Dense(4, activation=\"softmax\")(lstm_out)\n",
        "\n",
        "        # Modelo\n",
        "        self.model = Model(inputs=[observation_input, agent_id_input], outputs=output)\n",
        "        self.model.compile(optimizer=\"adam\", loss=\"categorical_crossentropy\")\n",
        "\n",
        "    def summary(self):\n",
        "        self.model.summary()\n",
        "\n",
        "# Exemplo de uso:\n",
        "num_channels = 3\n",
        "timesteps = 10\n",
        "height, width = 7, 7\n",
        "id_dim = 1\n",
        "\n",
        "model = Qnetwork(num_channels, timesteps, height, width, id_dim)\n",
        "model.summary()"
      ],
      "metadata": {
        "id": "guYF3NKWHmrg"
      },
      "execution_count": 15,
      "outputs": []
    },
    {
      "cell_type": "code",
      "source": [
        "import numpy as np\n",
        "import itertools\n",
        "from skimage.transform import resize\n",
        "import matplotlib.pyplot as plt\n",
        "import gym\n",
        "from gym import spaces\n",
        "\n",
        "# Defina a classe Qnetwork aqui\n",
        "\n",
        "# Defina a função para preprocessar observações\n",
        "def preprocess_observation(observation):\n",
        "    # Redimensione a observação para o tamanho esperado pela Qnetwork\n",
        "    # Certifique-se de que a forma seja compatível com a da Qnetwork\n",
        "    return resize(observation, (7, 7, 3), anti_aliasing=True).astype(np.uint8)\n",
        "\n",
        "# Crie uma instância do ambiente Grid2DEnv\n",
        "env = Grid2DEnv(sizeX=7, sizeY=7)\n",
        "\n",
        "# Inicialize a Qnetwork com os parâmetros adequados\n",
        "num_channels = 3  # O número de canais na observação do ambiente Grid2DEnv é 3\n",
        "timesteps = 1  # Não estamos tratando de uma sequência temporal aqui, então timesteps = 1\n",
        "height, width = 7, 7  # Redimensione a observação para 84x84\n",
        "id_dim = 1  # Não estamos usando uma ID do agente neste ambiente\n",
        "\n",
        "# Crie uma instância da Qnetwork\n",
        "q_network = Qnetwork(num_channels, timesteps, height, width, id_dim)\n",
        "\n",
        "# Defina alguns hiperparâmetros para treinamento\n",
        "batch_size = 32\n",
        "num_episodes = 1000\n",
        "epsilon = 0.1  # Taxa de exploração\n",
        "\n",
        "# Treine a Qnetwork\n",
        "for episode in range(num_episodes):\n",
        "    observation = env.reset()\n",
        "    print(observation)\n",
        "    done = False\n",
        "    total_reward = 0\n",
        "\n",
        "    while not done:\n",
        "        # Pré-processamento da observação\n",
        "        preprocessed_observation = preprocess_observation(observation)\n",
        "\n",
        "        # Escolha uma ação usando a política epsilon-greedy\n",
        "        if np.random.rand() < epsilon:\n",
        "            action = env.action_space.sample()  # Ação aleatória (exploração)\n",
        "        else:\n",
        "            # Exploitação: escolha a ação com o maior valor Q\n",
        "            q_values = q_network.model.predict([np.expand_dims(preprocessed_observation, axis=0)])\n",
        "            action = np.argmax(q_values)\n",
        "\n",
        "        # Execute a ação no ambiente\n",
        "        next_observation, reward, done, _ = env.step(action)\n",
        "\n",
        "        # Atualize a Qnetwork com a experiência\n",
        "        # (implementação do treinamento da Qnetwork aqui)\n",
        "\n",
        "        total_reward += reward\n",
        "        observation = next_observation\n",
        "\n",
        "    print(f\"Episódio {episode + 1}: recompensa total = {total_reward}\")\n",
        "\n",
        "# Salve o modelo após o treinamento\n",
        "q_network.model.save(\"modelo_treinado.h5\")\n"
      ],
      "metadata": {
        "id": "S-6U-e1EstrU",
        "colab": {
          "base_uri": "https://localhost:8080/",
          "height": 245
        },
        "outputId": "4dd4d5c5-81a3-4260-a856-7507bf9dea1d"
      },
      "execution_count": 22,
      "outputs": [
        {
          "output_type": "error",
          "ename": "NameError",
          "evalue": "ignored",
          "traceback": [
            "\u001b[0;31m---------------------------------------------------------------------------\u001b[0m",
            "\u001b[0;31mNameError\u001b[0m                                 Traceback (most recent call last)",
            "Cell \u001b[0;32mIn[22], line 26\u001b[0m\n\u001b[1;32m     23\u001b[0m id_dim \u001b[38;5;241m=\u001b[39m \u001b[38;5;241m1\u001b[39m  \u001b[38;5;66;03m# Não estamos usando uma ID do agente neste ambiente\u001b[39;00m\n\u001b[1;32m     25\u001b[0m \u001b[38;5;66;03m# Crie uma instância da Qnetwork\u001b[39;00m\n\u001b[0;32m---> 26\u001b[0m q_network \u001b[38;5;241m=\u001b[39m \u001b[43mQnetwork\u001b[49m(num_channels, timesteps, height, width, id_dim)\n\u001b[1;32m     28\u001b[0m \u001b[38;5;66;03m# Defina alguns hiperparâmetros para treinamento\u001b[39;00m\n\u001b[1;32m     29\u001b[0m batch_size \u001b[38;5;241m=\u001b[39m \u001b[38;5;241m32\u001b[39m\n",
            "\u001b[0;31mNameError\u001b[0m: name 'Qnetwork' is not defined"
          ]
        }
      ]
    },
    {
      "cell_type": "code",
      "source": [
        "def rgb_to_gray(rgb_image):\n",
        "    return np.dot(rgb_image[..., :3], [0.2989, 0.5870, 0.1140])"
      ],
      "metadata": {
        "id": "6EZ_pt9cpFNF"
      },
      "execution_count": null,
      "outputs": []
    },
    {
      "cell_type": "code",
      "source": [
        "import cv2\n",
        "\n",
        "def resize(image, width, height):\n",
        "    return cv2.resize(image, (width, height), interpolation = cv2.INTER_LINEAR)"
      ],
      "metadata": {
        "id": "KvwxjWtLpHUY"
      },
      "execution_count": null,
      "outputs": []
    },
    {
      "cell_type": "code",
      "source": [
        "def crop(image, top, bottom, left, right):\n",
        "    return image[top:bottom, left:right]"
      ],
      "metadata": {
        "id": "bcDTiBOapJw-"
      },
      "execution_count": null,
      "outputs": []
    },
    {
      "cell_type": "code",
      "source": [
        "def normalize(image):\n",
        "    return image / 255.0"
      ],
      "metadata": {
        "id": "XgkJkuMEpLFF"
      },
      "execution_count": null,
      "outputs": []
    },
    {
      "cell_type": "code",
      "source": [
        "def preprocess(image, width, height, top, bottom, left, right):\n",
        "    grayscale = rgb_to_gray(image)\n",
        "    cropped = crop(grayscale, top, bottom, left, right)\n",
        "    resized = resize(cropped, width, height)\n",
        "    return normalize(resized)"
      ],
      "metadata": {
        "id": "Ge56-LkTpNEK"
      },
      "execution_count": null,
      "outputs": []
    }
  ]
}