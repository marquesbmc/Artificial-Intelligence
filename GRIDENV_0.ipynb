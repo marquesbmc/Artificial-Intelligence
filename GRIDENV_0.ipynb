{
  "nbformat": 4,
  "nbformat_minor": 0,
  "metadata": {
    "colab": {
      "provenance": [],
      "authorship_tag": "ABX9TyMbdYWcpKfPup2pdwNCKQGj",
      "include_colab_link": true
    },
    "kernelspec": {
      "name": "python3",
      "display_name": "Python 3"
    },
    "language_info": {
      "name": "python"
    }
  },
  "cells": [
    {
      "cell_type": "markdown",
      "metadata": {
        "id": "view-in-github",
        "colab_type": "text"
      },
      "source": [
        "<a href=\"https://colab.research.google.com/github/marquesbmc/Artificial-Intelligence/blob/main/GRIDENV_0.ipynb\" target=\"_parent\"><img src=\"https://colab.research.google.com/assets/colab-badge.svg\" alt=\"Open In Colab\"/></a>"
      ]
    },
    {
      "cell_type": "markdown",
      "source": [
        "# Análise do Código de Q-learning em uma Grade 7x7"
      ],
      "metadata": {
        "id": "RBAL1Z2apApq"
      }
    },
    {
      "cell_type": "markdown",
      "source": [
        "Este notebook apresenta a implementação de um agente que aprende a navegar em uma grade 7x7 para alcançar um ponto de objetivo **G** usando Q-learning. O agente sempre começa da posição **P** = (3,3), enquanto **G** é definido aleatoriamente a cada execução, mas sempre é diferente de **P**.\n",
        "\n",
        "Componentes Principais:\n",
        "1. Função get_goal_point():\n",
        "Esta função gera uma posição aleatória para o objetivo **G** na grade, garantindo que não seja igual à posição inicial  **P**.\n",
        "\n",
        "2. Classe Entity:\n",
        "Representa uma entidade genérica na grade. Cada entidade tem um ID e uma posição.\n",
        "\n",
        "3. Classe Agent:\n",
        "Derivada de Entity.\n",
        "Representa um agente que pode se mover pela grade.\n",
        "Mantém uma tabela Q (state_actions) para rastrear o valor de cada ação em cada estado.\n",
        "Usa uma estratégia epsilon-greedy para escolher ações.\n",
        "Contém a função play para treinar o agente durante várias rodadas.\n",
        "Mantém um registro dos estados visitados (visited_states).\n",
        "4. Classe GridEnv:\n",
        "Representa o ambiente de grade 7x7.\n",
        "Contém métodos para mover entidades, calcular recompensas e visualizar o caminho tomado pelo agente.\n",
        "O objetivo **G** é definido nesta classe.\n",
        "5. Função main():\n",
        "Inicializa o ambiente e o agente.\n",
        "Treina o agente por 500 rodadas e visualiza sua performance.\n",
        "Testa a política aprendida pelo agente e visualiza o caminho tomado.\n",
        "Observações:\n",
        "Estratégia Epsilon-Greedy: No início, o agente explora completamente, mas à medida que aprende, explora menos e explota mais o que aprendeu.\n",
        "\n",
        "Recompensas e Penalidades: O agente é recompensado ao atingir o objetivo e penalizado por movimentos ineficientes ou por visitar estados já visitados.\n",
        "\n",
        "Visualização: O código inclui uma função útil para visualizar o caminho do agente na grade.\n",
        "\n",
        "Limitações Potenciais: O código parece ter um limite de 100 movimentos ao testar o agente. Além disso, a implementação da classe GridEnv parece estar incompleta."
      ],
      "metadata": {
        "id": "uD3x1DLHoalU"
      }
    },
    {
      "cell_type": "markdown",
      "source": [
        "## Estratégias de otimização do RF"
      ],
      "metadata": {
        "id": "Pxy8pcBjtu2S"
      }
    },
    {
      "cell_type": "markdown",
      "source": [
        "### 1.Taxa de Exploração (Epsilon) no Q-learning"
      ],
      "metadata": {
        "id": "Ux4zjo_nrTP3"
      }
    },
    {
      "cell_type": "markdown",
      "source": [
        "\n",
        "A Taxa de Exploração, frequentemente denotada como **ϵ**, é um componente fundamental no aprendizado por reforço, particularmente ao usar a estratégia epsilon-greedy. Ela determina a probabilidade de o agente escolher uma ação aleatória (explorar) em vez de escolher a ação que atualmente acredita ser a melhor (explorar).\n",
        "\n",
        "Inicialização dos Atributos:\n",
        "Na classe Agent, os atributos relacionados à taxa de exploração são inicializados da seguinte forma:\n",
        "\n",
        "python\n",
        "Copy code\n",
        "self.exp_rate = 1  # 100% chance de escolher uma ação aleatória no início\n",
        "self.exp_rate_decay = 0.995  # Taxa de decaimento do epsilon após cada episódio\n",
        "self.exp_rate_min = 0.1  # Valor mínimo para a taxa de exploração\n",
        "Escolha de Ações:\n",
        "O método chooseAction decide qual ação o agente deve tomar:\n",
        "\n",
        "```\n",
        "def chooseAction(self):\n",
        "    action = np.random.choice(self.actions) if np.random.uniform(0, 1) <= self.exp_rate else max(self.actions, key=lambda a: self.state_actions[self.pos][a])\n",
        "    return action\n",
        "```\n",
        "Dentro deste método:\n",
        "\n",
        "Se um número aleatório entre 0 e 1 for menor ou igual a self.exp_rate, o agente escolhe uma ação aleatória (explorando o ambiente).\n",
        "Caso contrário, ele escolhe a ação com o maior valor Q para o estado atual (explorando o conhecimento adquirido).\n",
        "Política de Decaimento:\n",
        "A taxa de exploração não permanece constante. Ela decai com o tempo para fazer a transição do agente da exploração para a exploração. A política de decaimento é implementada no método play:\n",
        "\n",
        "```\n",
        "self.exp_rate = max(self.exp_rate * self.exp_rate_decay, self.exp_rate_min)\n",
        "```\n",
        "Após cada episódio de treinamento:\n",
        "\n",
        "A self.exp_rate é multiplicada pelo fator de decaimento self.exp_rate_decay.\n",
        "No entanto, a self.exp_rate nunca cai abaixo de self.exp_rate_min, garantindo que o agente mantenha alguma probabilidade de explorar, mesmo depois de muito treinamento.\n",
        "Conclusão:\n",
        "A estratégia epsilon-greedy, guiada pela Taxa de Exploração, garante que o agente tenha um equilíbrio entre explorar novas ações e explorar o conhecimento adquirido. Inicialmente, o agente tende a explorar mais, mas com o tempo e o aprendizado, ele começa a confiar mais em suas decisões baseadas no que já aprendeu."
      ],
      "metadata": {
        "id": "0_GIQDgorMTa"
      }
    },
    {
      "cell_type": "markdown",
      "source": [
        "### 2. Inicializar Valores Q Diferentemente:"
      ],
      "metadata": {
        "id": "n1OzzwmIsSl0"
      }
    },
    {
      "cell_type": "markdown",
      "source": [
        "No Q-learning, a tabela Q é uma representação do valor de cada ação em cada estado. Os valores Q são atualizados à medida que o agente aprende, mas a inicialização desses valores pode influenciar a velocidade e eficácia do aprendizado.\n",
        "\n",
        "Implementação no Código:\n",
        "```\n",
        "self.state_actions = {(i, j): {a: np.random.rand() - 0.05 for a in self.actions} for i in range(WIDTH) for j in range(HEIGHT)}\n",
        "```\n",
        "Em vez de inicializar todos os valores Q com zero, o código opta por inicializá-los com pequenos valores aleatórios perto de zero (no intervalo de -0.05 a 0.95). Isso pode promover a exploração inicial de diferentes ações e estados, reduzindo potenciais empates entre ações nas fases iniciais."
      ],
      "metadata": {
        "id": "bQCPU8-usSUz"
      }
    },
    {
      "cell_type": "markdown",
      "source": [
        "### 3. Política de Decaimento:"
      ],
      "metadata": {
        "id": "K_lGF_pGsk4z"
      }
    },
    {
      "cell_type": "markdown",
      "source": [
        "A política de decaimento é uma estratégia para reduzir a taxa de exploração ao longo do tempo. Isso garante que, no início, o agente explore mais o ambiente, mas à medida que aprende, ele começa a confiar mais no seu conhecimento.\n",
        "\n",
        "Implementação no Código:\n",
        "```\n",
        "self.exp_rate = max(self.exp_rate * self.exp_rate_decay, self.exp_rate_min)\n",
        "```\n",
        "Após cada episódio de treinamento, a taxa de exploração é multiplicada pelo fator de decaimento self.exp_rate_decay. No entanto, ela nunca cai abaixo de self.exp_rate_min, garantindo que haja sempre alguma chance de exploração."
      ],
      "metadata": {
        "id": "aCQIzh3Mskx9"
      }
    },
    {
      "cell_type": "markdown",
      "source": [
        "### 4. Recompensas Negativas por Movimentos:"
      ],
      "metadata": {
        "id": "B3P80-vZskuy"
      }
    },
    {
      "cell_type": "markdown",
      "source": [
        "Recompensar ou penalizar o agente por suas ações é fundamental no aprendizado por reforço. Recompensas negativas por movimentos podem desencorajar o agente de fazer movimentos desnecessários ou ineficientes.\n",
        "\n",
        "Implementação no Código:\n",
        "```\n",
        "penalidade_base = NON_GOAL_PENALTY\n",
        "fator_incremental = 0.01\n",
        "movimentos_feitos = len(Entity.states)\n",
        "penalidade_por_movimento = penalidade_base + (movimentos_feitos * fator_incremental)\n",
        "```\n",
        "O agente é penalizado por cada movimento. A penalidade base é de -1, mas há uma penalidade incremental com base no número de movimentos já realizados. Isso pode desencorajar o agente de fazer movimentos excessivos e incentivá-lo a encontrar o caminho mais eficiente para o objetivo."
      ],
      "metadata": {
        "id": "GhVH46ueskla"
      }
    },
    {
      "cell_type": "markdown",
      "source": [
        "### 5. Implementar uma Estratégia de Visitação:"
      ],
      "metadata": {
        "id": "QYAnG-I7skbJ"
      }
    },
    {
      "cell_type": "markdown",
      "source": [
        "Manter um registro dos estados visitados pode ser útil para evitar que o agente repita movimentos desnecessários e incentive a exploração de novos estados.\n",
        "\n",
        "Implementação no Código:\n",
        "```\n",
        "self.visited_states = {(i, j): 0 for i in range(WIDTH) for j in range(HEIGHT)}\n",
        "```\n",
        "O agente mantém um registro dos estados que visitou. Cada vez que visita um estado, esse registro é incrementado:\n",
        "```\n",
        "self.visited_states[self.pos] += 1\n",
        "```\n",
        "Ao calcular a recompensa, o agente é penalizado por revisitar estados:\n",
        "```\n",
        "visited_penalty = Entity.visited_states[Entity.pos] * -2\n",
        "```\n",
        "A penalidade é duas vezes o número de vezes que o estado foi visitado. Isso desencoraja o agente de revisitar estados repetidamente, promovendo a exploração de novos estados."
      ],
      "metadata": {
        "id": "QyRSVZb1si3K"
      }
    },
    {
      "cell_type": "markdown",
      "source": [
        "# Código"
      ],
      "metadata": {
        "id": "rLZ1fibbrIxE"
      }
    },
    {
      "cell_type": "code",
      "source": [
        "import numpy as np\n",
        "import matplotlib.pyplot as plt\n",
        "\n",
        "def get_goal_point():\n",
        "    while True:\n",
        "        x = np.random.randint(0, WIDTH)\n",
        "        y = np.random.randint(0, HEIGHT)\n",
        "        if (x,y) != P:\n",
        "            return (x,y)\n",
        "\n",
        "# Constantes\n",
        "WIDTH = 7  # Largura do ambiente\n",
        "HEIGHT = 6  # Altura do ambiente\n",
        "P = (3, 3)\n",
        "G = get_goal_point()\n",
        "EMPTY = -1  # Representação de uma célula vazia\n",
        "GOAL_REWARD = 100  # Recompensa ao atingir o objetivo\n",
        "NON_GOAL_PENALTY = -1  # Penalização para movimentos que não atingem o objetivo"
      ],
      "metadata": {
        "id": "cgKC5bCS2TZ3"
      },
      "execution_count": 1,
      "outputs": []
    },
    {
      "cell_type": "markdown",
      "source": [
        "### Entities"
      ],
      "metadata": {
        "id": "oMZF18BK2aS9"
      }
    },
    {
      "cell_type": "code",
      "source": [
        "class Entity:\n",
        "    current_id = 0  # ID atual (inicializado com 0)\n",
        "\n",
        "    def __init__(self, env):\n",
        "        Entity.current_id += 1  # Incrementa o ID\n",
        "        self.id = Entity.current_id\n",
        "        self.env = env  # Ambiente associado à entidade\n",
        "        self.ini_pos = P\n",
        "        #self.ini_pos = env.get_random_empty_cell()\n",
        "        self.pos = self.ini_pos"
      ],
      "metadata": {
        "id": "0jKia2tE2TKL"
      },
      "execution_count": 2,
      "outputs": []
    },
    {
      "cell_type": "code",
      "execution_count": 3,
      "metadata": {
        "id": "UJ-mTNgML0BL"
      },
      "outputs": [],
      "source": [
        "class Agent(Entity):\n",
        "    def __init__(self, env):\n",
        "        super().__init__(env)\n",
        "        self.actions = [\"up\", \"left\", \"right\", \"down\"]  # Ações possíveis\n",
        "        self.states = []  # Estados visitados\n",
        "\n",
        "\n",
        "        self.lr = 0.1  # Taxa de aprendizado\n",
        "        # Inicializa valores Q para cada estado e ação\n",
        "        #self.state_actions = {(i, j): {a: 0 for a in self.actions} for i in range(WIDTH) for j in range(HEIGHT)}\n",
        "        self.state_actions = {(i, j): {a: np.random.rand() - 0.05 for a in self.actions} for i in range(WIDTH) for j in range(HEIGHT)}\n",
        "\n",
        "        self.exp_rate = 1 # Taxa de exploração:  100% de chance de escolher uma ação aleatória\n",
        "        self.exp_rate_decay = 0.995  # taxa de decaimento\n",
        "        self.exp_rate_min = 0.1     # valor mínimo para a taxa de exploração\n",
        "\n",
        "        # Inicializa o registro de visitação\n",
        "        self.visited_states = {(i, j): 0 for i in range(WIDTH) for j in range(HEIGHT)}\n",
        "\n",
        "    def chooseAction(self):\n",
        "        # Escolhe ação baseada na estratégia epsilon-greedy\n",
        "        mx_nxt_reward = float('-inf')\n",
        "        action = np.random.choice(self.actions) if np.random.uniform(0, 1) <= self.exp_rate else max(self.actions, key=lambda a: self.state_actions[self.pos][a])\n",
        "        return action\n",
        "\n",
        "    def step(self, action):\n",
        "        # Ensure action is valid\n",
        "        if action not in self.actions:\n",
        "            raise ValueError(f\"Invalid action: {action}. Must be one of {self.actions}.\")\n",
        "\n",
        "        # Get the next position after taking the action\n",
        "        next_state = self.env.nxtPosition(self, action)\n",
        "\n",
        "        # Get the reward after taking the action\n",
        "        reward = self.env.giveReward(self)\n",
        "\n",
        "        # Check if the episode has ended (i.e., agent has reached the goal state)\n",
        "        done = self.env.end\n",
        "\n",
        "        # Placeholder for additional information (can be used for debugging)\n",
        "        info = {}\n",
        "\n",
        "        return next_state, reward, done, info\n",
        "\n",
        "    def run_episode(self, rounds=10):\n",
        "        episode_history = []  # List to record state, action, reward for each step\n",
        "\n",
        "        for _ in range(rounds):\n",
        "            # 1. Choose an action\n",
        "            action = self.chooseAction()\n",
        "\n",
        "            # 2. Take the action in the environment\n",
        "            next_state, reward, done, _ = self.step(action)\n",
        "\n",
        "            # 3. Record the results\n",
        "            episode_history.append((self.pos, action, reward))\n",
        "\n",
        "            # 4. Check if episode is finished\n",
        "            if done:\n",
        "                break\n",
        "\n",
        "        # Update Q-values at the end of the episode\n",
        "        final_reward = self.env.giveReward(self)\n",
        "        for a in self.actions:\n",
        "            self.state_actions[self.pos][a] = final_reward\n",
        "        for s in reversed(episode_history):\n",
        "            pos, action, r = s\n",
        "            current_value = self.state_actions[pos][action]\n",
        "            final_reward = current_value + self.lr*(r + final_reward - current_value)\n",
        "            self.state_actions[pos][action] = round(final_reward, 3)\n",
        "            final_reward = max(self.state_actions[pos].values())\n",
        "\n",
        "        return episode_history\n",
        "\n",
        "    def play(self, rounds=10):\n",
        "        total_rewards = []  # Lista para armazenar a recompensa total por rodada\n",
        "\n",
        "        for _ in range(rounds):\n",
        "            total_reward = 0  # Recompensa total para esta rodada\n",
        "\n",
        "            episode_history = []  # Armazena a trajetória do agente nesta rodada\n",
        "\n",
        "            while not self.env.end:\n",
        "                curr_state = self.pos\n",
        "                action = self.chooseAction()\n",
        "\n",
        "                # Move o agente e obtém recompensa\n",
        "                self.env.nxtPosition(self, action)\n",
        "                cur_reward = self.env.giveReward(self)\n",
        "\n",
        "                total_reward += cur_reward  # Acumula a recompensa\n",
        "\n",
        "                # Atualiza o registro de visitação\n",
        "                self.visited_states[self.pos] += 1\n",
        "\n",
        "                episode_history.append((curr_state, action, cur_reward))  # Armazena estado, ação e recompensa\n",
        "\n",
        "            self.exp_rate = max(self.exp_rate * self.exp_rate_decay, self.exp_rate_min)\n",
        "\n",
        "            # Atualiza valores Q usando a trajetória do episódio\n",
        "            final_reward = episode_history[-1][-1]  # Recompensa do último passo\n",
        "            for s in reversed(episode_history):\n",
        "                pos, action, r = s\n",
        "                current_value = self.state_actions[pos][action]\n",
        "                reward = current_value + self.lr * (r + final_reward - current_value)\n",
        "                self.state_actions[pos][action] = round(reward, 3)\n",
        "                final_reward = max(self.state_actions[pos].values())\n",
        "\n",
        "            total_rewards.append(total_reward)  # Adiciona a recompensa total para esta rodada à lista\n",
        "            self.reset()\n",
        "\n",
        "        return total_rewards  # Retorna a lista de recompensas totais\n",
        "\n",
        "\n",
        "    def reset(self):\n",
        "        self.states = []\n",
        "        self.ini_pos = P\n",
        "        self.pos = self.ini_pos\n",
        "        self.env.reset()\n",
        "        self.env.add_entity(self)\n",
        "        self.visited_states = {(i, j): 0 for i in range(WIDTH) for j in range(HEIGHT)}\n",
        "\n",
        "    def adjust_exp_rate(self, new_rate):\n",
        "        # Ajusta a taxa de exploração\n",
        "        self.exp_rate = new_rate\n"
      ]
    },
    {
      "cell_type": "markdown",
      "source": [
        "### GridEnv"
      ],
      "metadata": {
        "id": "j0_uGX-42LJs"
      }
    },
    {
      "cell_type": "code",
      "source": [
        "\n",
        "class GridEnv:\n",
        "    def __init__(self, grid_size_x=WIDTH, grid_size_y=HEIGHT):\n",
        "        # Inicializa o ambiente\n",
        "        self.end = False\n",
        "        self.grid_size_x = grid_size_x\n",
        "        self.grid_size_y = grid_size_y\n",
        "        self.board = np.full([grid_size_x, grid_size_y], EMPTY)  # Cria uma matriz representando o ambiente\n",
        "        self.entities = []  # Lista de entidades no ambiente\n",
        "\n",
        "        #self.G = self.get_goal_point()\n",
        "        self.G = G\n",
        "\n",
        "\n",
        "    def add_entity(self, Entity):\n",
        "        if self.board[Entity.pos] == EMPTY:\n",
        "            \"\"\"Adiciona uma entidade ao ambiente.\"\"\"\n",
        "            self.entities.append(Entity)\n",
        "            self.board[Entity.pos] = Entity.id\n",
        "        else:\n",
        "            raise ValueError(\"board not empty in entity.pos\")\n",
        "\n",
        "    def move_entity(self, Entity, new_position):\n",
        "        # If next position is within the grid and is empty\n",
        "        if (0 <= new_position[0] < self.grid_size_x and 0 <= new_position[1] < self.grid_size_y and\n",
        "            self.board[new_position] == EMPTY):\n",
        "\n",
        "            # Update the previous position to empty\n",
        "            self.board[Entity.pos] = EMPTY\n",
        "            # Update the entity's position\n",
        "            Entity.pos = new_position\n",
        "            # Update the board with the entity's ID\n",
        "            self.board[Entity.pos] = Entity.id\n",
        "            return True  # Successful move\n",
        "\n",
        "        return False  # Move not allowed\n",
        "\n",
        "    def get_random_empty_cell(self):\n",
        "        \"\"\"Retorna uma célula vazia aleatória no board que não está na lista de entities.\"\"\"\n",
        "        empty_cells = np.argwhere(self.board == EMPTY)\n",
        "\n",
        "        # Remover células que estão na lista de entities\n",
        "        entity_positions = [entity.pos for entity in self.entities]\n",
        "        empty_cells = [cell for cell in empty_cells if tuple(cell) not in entity_positions]\n",
        "\n",
        "        if not empty_cells:\n",
        "            raise ValueError(\"No empty cells available on the board!\")\n",
        "\n",
        "        return tuple(empty_cells[np.random.choice(len(empty_cells))])\n",
        "\n",
        "\n",
        "    def reset(self):\n",
        "        # Reinicia o ambiente para o estado inicial\n",
        "        self.end = False\n",
        "        self.board = np.full([self.grid_size_x, self.grid_size_y], EMPTY)\n",
        "        self.entities = []\n",
        "        self.G = G\n",
        "\n",
        "    def nxtPosition(self, Entity, action):\n",
        "        new_position = None\n",
        "\n",
        "        # Calcula a próxima posição baseada na ação\n",
        "        if action == \"up\":\n",
        "            new_position = (Entity.pos[0]-1, Entity.pos[1])\n",
        "        elif action == \"down\":\n",
        "            new_position = (Entity.pos[0]+1, Entity.pos[1])\n",
        "        elif action == \"left\":\n",
        "            new_position = (Entity.pos[0], Entity.pos[1]-1)\n",
        "        elif action == \"right\":\n",
        "            new_position = (Entity.pos[0], Entity.pos[1]+1)\n",
        "\n",
        "        # Attempt to move the entity to the next position\n",
        "        self.move_entity(Entity, new_position)\n",
        "\n",
        "        distance = abs(Entity.pos[0] - self.G[0]) + abs(Entity.pos[1] - self.G[1])\n",
        "\n",
        "        if distance <= 1:\n",
        "            self.end = True\n",
        "\n",
        "        return Entity.pos\n",
        "\n",
        "    def giveReward(self, Entity):\n",
        "        # Calcula a distância euclidiana entre Entity.pos e G\n",
        "        distance = abs(Entity.pos[0] - self.G[0]) + abs(Entity.pos[1] - self.G[1])\n",
        "\n",
        "        # Recompensa Incremental Baseada na Distância\n",
        "        reward_based_on_distance = 1 / (distance + 1)\n",
        "\n",
        "        # Penalização Incremental por Movimento\n",
        "        penalidade_base = NON_GOAL_PENALTY\n",
        "        fator_incremental = 0.01  # este valor pode ser ajustado\n",
        "        movimentos_feitos = len(Entity.states)  # assumindo que Entity.states armazena os movimentos\n",
        "        penalidade_por_movimento = penalidade_base + (movimentos_feitos * fator_incremental)\n",
        "\n",
        "\n",
        "        # Penalização por visitar um estado já visitado\n",
        "        visited_penalty = Entity.visited_states[Entity.pos] * -2\n",
        "\n",
        "        # Se o agente estiver perto do objetivo, ele receberá a recompensa com base na distância\n",
        "        if distance <= 1:\n",
        "            return GOAL_REWARD + reward_based_on_distance\n",
        "        else:\n",
        "            # Caso contrário, ele receberá a penalização incremental por movimento e a penalização por visitação\n",
        "            return penalidade_por_movimento + visited_penalty\n",
        "\n",
        "\n",
        "\n",
        "    def visualize_path(grid_env, path, goal):\n",
        "        \"\"\"\n",
        "        Visualiza o caminho do agente no grid.\n",
        "\n",
        "        Parâmetros:\n",
        "        - grid_env: instância do ambiente GridEnv.\n",
        "        - path: lista de posições (tuplas) que o agente tomou.\n",
        "        - goal: posição (tupla) do objetivo.\n",
        "        \"\"\"\n",
        "\n",
        "        # Cria uma representação do grid\n",
        "        grid = np.zeros((grid_env.grid_size_x, grid_env.grid_size_y))\n",
        "\n",
        "        # Marca o caminho do agente com 0.5\n",
        "        for pos in path:\n",
        "            grid[pos] = 0.5\n",
        "\n",
        "        # Marca a posição inicial e final\n",
        "        grid[path[0]] = 0.3  # início\n",
        "        grid[path[-1]] = 0.7  # final\n",
        "\n",
        "        # Marca o objetivo\n",
        "        grid[goal] = 1.0\n",
        "\n",
        "        plt.imshow(grid, cmap=\"gray_r\")\n",
        "        plt.colorbar()\n",
        "\n",
        "        # Adiciona os números das coordenadas\n",
        "        for y in range(grid_env.grid_size_y):\n",
        "            for x in range(grid_env.grid_size_x):\n",
        "                plt.text(x, y, f\"{y},{x}\", ha=\"center\", va=\"center\", color=\"red\", fontsize=8)\n",
        "\n",
        "        plt.title(\"Caminho do Agente\")\n",
        "        plt.show()"
      ],
      "metadata": {
        "id": "XyZU1dS42Lnr"
      },
      "execution_count": 4,
      "outputs": []
    },
    {
      "cell_type": "markdown",
      "source": [
        "### Main"
      ],
      "metadata": {
        "id": "1ZNKG7dPoVAU"
      }
    },
    {
      "cell_type": "code",
      "source": [
        "def main():\n",
        "    env = GridEnv()\n",
        "    ag = Agent(env)\n",
        "    rewards = ag.play(rounds=500)\n",
        "    print(\"Agent.pos_ini: \", ag.ini_pos )\n",
        "    for i in range(WIDTH):\n",
        "        for j in range(HEIGHT):\n",
        "            print((i, j), ag.state_actions[(i, j)])\n",
        "\n",
        "    # Plotando as recompensas ao longo das rodadas\n",
        "    plt.plot(rewards)\n",
        "    plt.xlabel('Rodada')\n",
        "    plt.ylabel('Recompensa Total')\n",
        "    plt.title('Desempenho do Treinamento')\n",
        "    plt.show()\n",
        "\n",
        "\n",
        "    print(\"##### TESTE DE APRENDIZADO #####\")\n",
        "\n",
        "    # Creating a new agent for testing purposes with the learned state actions\n",
        "    ag_op = Agent(env)\n",
        "    ag_op.state_actions = ag.state_actions\n",
        "    ag_op.exp_rate = 0\n",
        "    print(\"ag_op.pos_ini: \", ag_op.ini_pos)\n",
        "    print(\"env.G: \", env.G)\n",
        "\n",
        "    states = []\n",
        "    actions = []  # list to store actions taken\n",
        "    total_test_reward = 0  # track the total reward during testing\n",
        "    counter = 0\n",
        "    while not env.end:\n",
        "        curr_state = ag_op.pos\n",
        "        action = ag_op.chooseAction()\n",
        "        states.append(curr_state)\n",
        "        actions.append(action)  # store the action taken\n",
        "        next_state, reward, _, _ = ag_op.step(action)  # using the step function to also get the reward\n",
        "        total_test_reward += reward\n",
        "\n",
        "        # Print da posição atual e ação\n",
        "        print(f\"Posição: {curr_state}, Ação: {action}, Próxima Posição: {next_state}\")\n",
        "\n",
        "        counter += 1\n",
        "        if counter > 100:\n",
        "            print(\"O agente não conseguiu chegar ao objetivo após 100 movimentos. Interrompendo...\")\n",
        "            break\n",
        "\n",
        "    print(f\"Recompensa total durante o teste: {total_test_reward}\")\n",
        "\n",
        "    # Print the path\n",
        "    print(\"\\nMelhor caminho encontrado:\")\n",
        "    print(\"env.G\", env.G)\n",
        "    for s, a in zip(states, actions):\n",
        "        print(f\"Posição: {s}, Ação: {a}\")\n",
        "\n",
        "\n",
        "    env.visualize_path(states, env.G)\n",
        "\n",
        "    env.reset()\n",
        "\n",
        "# Running the main function\n",
        "main()\n"
      ],
      "metadata": {
        "colab": {
          "base_uri": "https://localhost:8080/",
          "height": 1000
        },
        "id": "lH6n-ZIlpzRw",
        "outputId": "a7070b3e-d525-4ebc-f4f8-582229ecfac1"
      },
      "execution_count": 5,
      "outputs": [
        {
          "output_type": "stream",
          "name": "stdout",
          "text": [
            "Agent.pos_ini:  (3, 3)\n",
            "(0, 0) {'up': -14.919, 'left': -17.348, 'right': -8.745, 'down': -10.873}\n",
            "(0, 1) {'up': -7.562, 'left': -13.907, 'right': -6.465, 'down': -6.457}\n",
            "(0, 2) {'up': -5.641, 'left': -7.075, 'right': -4.559, 'down': -4.707}\n",
            "(0, 3) {'up': -6.237, 'left': -4.696, 'right': -3.537, 'down': -2.216}\n",
            "(0, 4) {'up': -6.752, 'left': -5.739, 'right': -4.425, 'down': -3.258}\n",
            "(0, 5) {'up': -11.011, 'left': -4.667, 'right': -9.245, 'down': -2.755}\n",
            "(0, 6) {'up': -10.203, 'left': -7.72, 'right': -7.306, 'down': -3.687}\n",
            "(1, 0) {'up': -17.844, 'left': -14.738, 'right': -10.296, 'down': -6.068}\n",
            "(1, 1) {'up': -7.313, 'left': -10.355, 'right': -5.493, 'down': -6.959}\n",
            "(1, 2) {'up': -5.705, 'left': -8.143, 'right': 2.665, 'down': 4.616}\n",
            "(1, 3) {'up': -4.974, 'left': -3.039, 'right': -4.325, 'down': 53.217}\n",
            "(1, 4) {'up': -5.25, 'left': -4.157, 'right': -3.085, 'down': 76.014}\n",
            "(1, 5) {'up': -6.999, 'left': -3.69, 'right': -2.815, 'down': 54.564}\n",
            "(1, 6) {'up': -7.113, 'left': -3.924, 'right': -3.823, 'down': 13.041}\n",
            "(2, 0) {'up': -8.409, 'left': -10.256, 'right': -6.221, 'down': -7.406}\n",
            "(2, 1) {'up': -6.821, 'left': -6.128, 'right': -1.622, 'down': -9.133}\n",
            "(2, 2) {'up': -3.474, 'left': -6.522, 'right': 2.354, 'down': 63.891}\n",
            "(2, 3) {'up': 10.381, 'left': 11.948, 'right': 54.535, 'down': 184.822}\n",
            "(2, 4) {'up': 23.157, 'left': 28.905, 'right': 51.442, 'down': 185.788}\n",
            "(2, 5) {'up': 14.814, 'left': 25.522, 'right': 20.442, 'down': 144.481}\n",
            "(2, 6) {'up': -0.087, 'left': 16.575, 'right': 20.759, 'down': 76.83}\n",
            "(3, 0) {'up': -6.544, 'left': -8.929, 'right': -6.836, 'down': -6.334}\n",
            "(3, 1) {'up': -4.957, 'left': -8.084, 'right': 26.535, 'down': -7.073}\n",
            "(3, 2) {'up': 1.744, 'left': -0.069, 'right': 189.934, 'down': 27.343}\n",
            "(3, 3) {'up': 161.206, 'left': 170.082, 'right': 196.775, 'down': 186.241}\n",
            "(3, 4) {'up': 160.574, 'left': 185.717, 'right': 194.532, 'down': 197.806}\n",
            "(3, 5) {'up': 76.754, 'left': 133.041, 'right': 100.679, 'down': 197.491}\n",
            "(3, 6) {'up': 27.401, 'left': 59.987, 'right': 21.988, 'down': 165.761}\n",
            "(4, 0) {'up': -6.931, 'left': -4.426, 'right': -8.361, 'down': -4.549}\n",
            "(4, 1) {'up': -5.669, 'left': -5.879, 'right': 26.268, 'down': -6.827}\n",
            "(4, 2) {'up': 11.646, 'left': -0.769, 'right': 126.647, 'down': 26.933}\n",
            "(4, 3) {'up': 108.2, 'left': 59.079, 'right': 196.032, 'down': 77.295}\n",
            "(4, 4) {'up': 190.495, 'left': 189.745, 'right': 198.933, 'down': 191.274}\n",
            "(4, 5) {'up': 190.822, 'left': 187.188, 'right': 194.418, 'down': 199.861}\n",
            "(4, 6) {'up': 69.132, 'left': 147.043, 'right': 99.369, 'down': 200.071}\n",
            "(5, 0) {'up': -4.642, 'left': -6.075, 'right': -4.041, 'down': -7.954}\n",
            "(5, 1) {'up': -8.517, 'left': -4.635, 'right': 7.461, 'down': -2.155}\n",
            "(5, 2) {'up': 5.148, 'left': -2.837, 'right': 72.495, 'down': 5.937}\n",
            "(5, 3) {'up': 29.026, 'left': 20.303, 'right': 162.154, 'down': 54.729}\n",
            "(5, 4) {'up': 81.633, 'left': 96.655, 'right': 198.992, 'down': 134.013}\n",
            "(5, 5) {'up': 193.029, 'left': 183.738, 'right': 197.702, 'down': 200.995}\n",
            "(5, 6) {'up': 0.1664349384840002, 'left': 0.4372678367579513, 'right': -0.0442994195809205, 'down': -0.030018862107442604}\n",
            "(6, 0) {'up': -6.284, 'left': -10.549, 'right': -4.642, 'down': -7.787}\n",
            "(6, 1) {'up': -5.425, 'left': -7.004, 'right': -0.477, 'down': -6.882}\n",
            "(6, 2) {'up': 1.963, 'left': -5.194, 'right': 45.46, 'down': -0.939}\n",
            "(6, 3) {'up': 12.361, 'left': 9.031, 'right': 119.813, 'down': 21.721}\n",
            "(6, 4) {'up': 92.5, 'left': 34.07, 'right': 181.212, 'down': 89.458}\n",
            "(6, 5) {'up': 0.3283899949642986, 'left': 0.2927300150767402, 'right': 0.6081533498753269, 'down': 0.173554524411708}\n",
            "(6, 6) {'up': 0.5313044622119641, 'left': 0.7023660728188112, 'right': 0.2712546391509942, 'down': 0.45837175660671164}\n"
          ]
        },
        {
          "output_type": "display_data",
          "data": {
            "text/plain": [
              "<Figure size 640x480 with 1 Axes>"
            ],
            "image/png": "[encoded data removed]"
          },
          "metadata": {}
        },
        {
          "output_type": "stream",
          "name": "stdout",
          "text": [
            "##### TESTE DE APRENDIZADO #####\n",
            "ag_op.pos_ini:  (3, 3)\n",
            "env.G:  (6, 6)\n",
            "Posição: (3, 3), Ação: right, Próxima Posição: (3, 4)\n",
            "Posição: (3, 4), Ação: down, Próxima Posição: (4, 4)\n",
            "Posição: (4, 4), Ação: right, Próxima Posição: (4, 5)\n",
            "Posição: (4, 5), Ação: down, Próxima Posição: (5, 5)\n",
            "Posição: (5, 5), Ação: down, Próxima Posição: (6, 5)\n",
            "Recompensa total durante o teste: 96.5\n",
            "\n",
            "Melhor caminho encontrado:\n",
            "env.G (6, 6)\n",
            "Posição: (3, 3), Ação: right\n",
            "Posição: (3, 4), Ação: down\n",
            "Posição: (4, 4), Ação: right\n",
            "Posição: (4, 5), Ação: down\n",
            "Posição: (5, 5), Ação: down\n"
          ]
        },
        {
          "output_type": "display_data",
          "data": {
            "text/plain": [
              "<Figure size 640x480 with 2 Axes>"
            ],
            "image/png": "[encoded data removed]"
          },
          "metadata": {}
        }
      ]
    }
  ]
}